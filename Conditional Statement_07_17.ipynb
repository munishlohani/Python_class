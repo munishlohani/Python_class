{
 "cells": [
  {
   "cell_type": "code",
   "execution_count": null,
   "id": "4ae586b7",
   "metadata": {},
   "outputs": [],
   "source": [
    "#syntax\n",
    "if<condition>:\n",
    "    <operation>\n",
    "elif <condition>:\n",
    "    <operation>\n",
    "    ...\n",
    "else\n",
    "    <operation>"
   ]
  },
  {
   "cell_type": "code",
   "execution_count": 1,
   "id": "2c8f372b",
   "metadata": {},
   "outputs": [
    {
     "ename": "SyntaxError",
     "evalue": "invalid syntax (664075713.py, line 2)",
     "output_type": "error",
     "traceback": [
      "\u001b[1;36m  Cell \u001b[1;32mIn[1], line 2\u001b[1;36m\u001b[0m\n\u001b[1;33m    < > <= == >= == !=\u001b[0m\n\u001b[1;37m    ^\u001b[0m\n\u001b[1;31mSyntaxError\u001b[0m\u001b[1;31m:\u001b[0m invalid syntax\n"
     ]
    }
   ],
   "source": [
    "#comparision Operator\n",
    "< > <= == >= == !="
   ]
  },
  {
   "cell_type": "code",
   "execution_count": 4,
   "id": "15eded3b",
   "metadata": {},
   "outputs": [
    {
     "name": "stdout",
     "output_type": "stream",
     "text": [
      "Enter you age= 22\n",
      "The Age is equal or greater than 18\n"
     ]
    }
   ],
   "source": [
    "age=int(input('Enter you age= '))\n",
    "if age >= 18:\n",
    "    print('The Age is equal or greater than 18')\n",
    "else:\n",
    "    print('The Age is smaller than 18. ')\n",
    "    "
   ]
  },
  {
   "cell_type": "code",
   "execution_count": 7,
   "id": "ea293239",
   "metadata": {},
   "outputs": [
    {
     "name": "stdout",
     "output_type": "stream",
     "text": [
      "Enter a number= 0\n",
      "The number is even\n"
     ]
    }
   ],
   "source": [
    "a= int(input('Enter a number= '))\n",
    "if a % 2==0:\n",
    "    print('The number is even')\n",
    "else:\n",
    "    print('the number is odd')"
   ]
  },
  {
   "cell_type": "code",
   "execution_count": 15,
   "id": "5469c64e",
   "metadata": {},
   "outputs": [
    {
     "name": "stdout",
     "output_type": "stream",
     "text": [
      "Enter a number= 11\n",
      "Enter another number= 222\n",
      "222 is greater\n"
     ]
    }
   ],
   "source": [
    "a=int(input('Enter a number= '))\n",
    "b=int(input('Enter another number= '))\n",
    "if a>b:\n",
    "    print(a, 'is greater')\n",
    "elif a==b:\n",
    "    print('Both number are same')\n",
    "else:\n",
    "    print(b, \"is greater\")\n"
   ]
  },
  {
   "cell_type": "code",
   "execution_count": 22,
   "id": "ade57475",
   "metadata": {},
   "outputs": [
    {
     "name": "stdout",
     "output_type": "stream",
     "text": [
      "Enter marks of Math= 100\n",
      "Enter Marks of Physics= 22\n",
      "Enter Marks of Chemistry= 45\n",
      "Total=  167.0\n",
      "Percentage obtained=  22.0\n",
      "Fail\n"
     ]
    }
   ],
   "source": [
    "math=float(input('Enter marks of Math= '))\n",
    "p=float(input('Enter Marks of Physics= '))\n",
    "c=float(input('Enter Marks of Chemistry= '))\n",
    "total=math+p+c\n",
    "P=((math+p+c)/300)*100\n",
    "print('Total= ', total)\n",
    "print('Percentage obtained= ', p)\n",
    "if p>100:\n",
    "    print('Marks incorrect')\n",
    "if p>=90:\n",
    "    print('grade = A+')\n",
    "elif 80<=p<90:\n",
    "    print('Grade=A')\n",
    "elif 70<=p<80  :\n",
    "    print('Grade=B+')\n",
    "elif 60<=p<70:\n",
    "    print('Grade=B')\n",
    "elif 50<=p<60:\n",
    "    print('Grade=C+')\n",
    "elif 40<=p<50:\n",
    "    print('Grade=C')\n",
    "else:\n",
    "    print('Fail')"
   ]
  },
  {
   "cell_type": "code",
   "execution_count": 29,
   "id": "69b3609d",
   "metadata": {},
   "outputs": [
    {
     "name": "stdout",
     "output_type": "stream",
     "text": [
      "Enter a= 12\n",
      "Enter b= 2\n",
      " SELECT add, sub, multipy, divide\n",
      "Enter your operation= divide\n",
      "your operation= divide\n",
      "Result =  6.0\n"
     ]
    }
   ],
   "source": [
    "a=int(input('Enter a= '))\n",
    "b=int(input('Enter b= '))\n",
    "print(' SELECT add, sub, multipy, divide')\n",
    "o=input('Enter your operation= ')\n",
    "if o==\"add\":\n",
    "    s=a+b\n",
    "elif o==\"sub\":\n",
    "    s=a-b\n",
    "elif o==\"multiply\":\n",
    "    s=a*b\n",
    "elif o==\"divide\":\n",
    "         s=a/b\n",
    "else:\n",
    "    print('invalid')\n",
    "print('your operation=', o)\n",
    "print('Result = ', s)\n"
   ]
  },
  {
   "cell_type": "code",
   "execution_count": null,
   "id": "fb6e3e94",
   "metadata": {},
   "outputs": [],
   "source": []
  }
 ],
 "metadata": {
  "kernelspec": {
   "display_name": "Python 3 (ipykernel)",
   "language": "python",
   "name": "python3"
  },
  "language_info": {
   "codemirror_mode": {
    "name": "ipython",
    "version": 3
   },
   "file_extension": ".py",
   "mimetype": "text/x-python",
   "name": "python",
   "nbconvert_exporter": "python",
   "pygments_lexer": "ipython3",
   "version": "3.11.3"
  }
 },
 "nbformat": 4,
 "nbformat_minor": 5
}
