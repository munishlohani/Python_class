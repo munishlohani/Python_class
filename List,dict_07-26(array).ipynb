{
 "cells": [
  {
   "cell_type": "code",
   "execution_count": 1,
   "id": "293a5d7f",
   "metadata": {},
   "outputs": [],
   "source": [
    "# Pythin Collection:\n",
    "#     List\n",
    "#     Topple\n",
    "#     Dictionary\n",
    "#     Set"
   ]
  },
  {
   "cell_type": "code",
   "execution_count": 2,
   "id": "64215e74",
   "metadata": {},
   "outputs": [],
   "source": [
    "# List\n",
    "# -Indexing\n",
    "# -Duplicate and multiple values\n",
    "# -Ordered\n",
    "# -Mutable"
   ]
  },
  {
   "cell_type": "code",
   "execution_count": null,
   "id": "da145998",
   "metadata": {},
   "outputs": [],
   "source": [
    "l=lsit()\n",
    "l=[]"
   ]
  },
  {
   "cell_type": "code",
   "execution_count": 4,
   "id": "d56b4688",
   "metadata": {},
   "outputs": [
    {
     "name": "stdout",
     "output_type": "stream",
     "text": [
      "<class 'list'>\n",
      "<class 'list'>\n"
     ]
    }
   ],
   "source": [
    "a=[1,2,3,4,5,6,7,8,9]\n",
    "b=[\"Apple\",\"Ball\",\"Cat\",\"Dog\",\"Elephant\"]\n",
    "print(type(a))\n",
    "print(type(b))"
   ]
  },
  {
   "cell_type": "code",
   "execution_count": 9,
   "id": "8ca80d4e",
   "metadata": {},
   "outputs": [
    {
     "name": "stdout",
     "output_type": "stream",
     "text": [
      "Apple\n",
      "['Apple', 'Ball', 'Cat', 'Dog']\n",
      "['Apple', 'Cat', 'Elephant']\n"
     ]
    }
   ],
   "source": [
    "a=[\"Apple\",\"Ball\",\"Cat\",\"Dog\",\"Elephant\"]\n",
    "print(a[0])\n",
    "print(a[0:4])\n",
    "print(a[0:5:2])\n"
   ]
  },
  {
   "cell_type": "code",
   "execution_count": 10,
   "id": "4a816c6f",
   "metadata": {},
   "outputs": [
    {
     "name": "stdout",
     "output_type": "stream",
     "text": [
      "['Apple', 'Ball', 'Cat', 'Dog', 'Elephant', 'Apple', 'Ball']\n"
     ]
    }
   ],
   "source": [
    "a=[\"Apple\",\"Ball\",\"Cat\",\"Dog\",\"Elephant\",\"Apple\",\"Ball\"]\n",
    "\n"
   ]
  },
  {
   "cell_type": "code",
   "execution_count": 16,
   "id": "05aa1fae",
   "metadata": {},
   "outputs": [
    {
     "name": "stdout",
     "output_type": "stream",
     "text": [
      "[1, 2, 3, 4, 5, 6, 7, 8]\n"
     ]
    }
   ],
   "source": [
    "a=[1,2,3,4]\n",
    "b=[5,6,7,8]\n",
    "c=a+b\n",
    "print(c)"
   ]
  },
  {
   "cell_type": "code",
   "execution_count": 21,
   "id": "62a422a1",
   "metadata": {},
   "outputs": [
    {
     "name": "stdout",
     "output_type": "stream",
     "text": [
      "[1, 2, 3, 4, 1, 2, 3, 4]\n"
     ]
    }
   ],
   "source": [
    "a=[1,2,3,4]\n",
    "b=2\n",
    "c=a*2\n",
    "print(c)"
   ]
  },
  {
   "cell_type": "code",
   "execution_count": 27,
   "id": "d62efcc3",
   "metadata": {},
   "outputs": [
    {
     "name": "stdout",
     "output_type": "stream",
     "text": [
      "enter n 11\n",
      "Enter the value of x 2\n",
      "Enter the value of x 345\n",
      "Enter the value of x 1234\n",
      "Enter the value of x 98\n",
      "Enter the value of x 12\n",
      "Enter the value of x 334\n",
      "Enter the value of x 1221\n",
      "Enter the value of x 5\n",
      "Enter the value of x 45\n",
      "Enter the value of x 324\n",
      "Enter the value of x 41\n",
      "[2, 345, 1234, 98, 12, 334, 1221, 5, 45, 324, 41]\n",
      "the sum=  3661\n",
      "The max of l=  1234\n",
      "Min  2\n",
      "The avg 332.8181818181818\n",
      "[2, 5, 12, 41, 45, 98, 324, 334, 345, 1221, 1234]\n",
      "[1234, 1221, 345, 334, 324, 98, 45, 41, 12, 5, 2]\n"
     ]
    }
   ],
   "source": [
    "l=[]\n",
    "n=int(input(\"enter n= \"))\n",
    "for i in range(n):\n",
    "    x=int(input(\"Enter the value of x= \"))\n",
    "    l=l+[x]\n",
    "print(l)\n",
    "print(\"the sum= \",sum(l))\n",
    "print('The max of l= ',max(l))\n",
    "print('Min ',min(l))\n",
    "print('The avg', (sum(l))/n)\n",
    "l.sort()\n",
    "print(l)\n",
    "#to reverse\n",
    "l.reverse()\n",
    "print(l)"
   ]
  },
  {
   "cell_type": "markdown",
   "id": "337fd945",
   "metadata": {},
   "source": [
    "a=[\"Apple\",\"Ball\",\"Cat\",\"Dog\",\"Elephant\"]\n",
    "a.sort()\n",
    "\n"
   ]
  },
  {
   "cell_type": "code",
   "execution_count": 31,
   "id": "403d8713",
   "metadata": {},
   "outputs": [
    {
     "name": "stdout",
     "output_type": "stream",
     "text": [
      "['Apple', 'Apple', 'Ball', 'Ball', 'Cat', 'Cat', 'Dog', 'Dog', 'Elephant', 'Elephant']\n"
     ]
    }
   ],
   "source": [
    "b=[\"Apple\",\"Ball\",\"Cat\",\"Dog\",\"Elephant\" ,\"Apple\",\"Ball\",\"Cat\",\"Dog\",\"Elephant\"]\n",
    "b.sort()\n",
    "print(b)\n"
   ]
  },
  {
   "cell_type": "code",
   "execution_count": 35,
   "id": "be20c979",
   "metadata": {},
   "outputs": [
    {
     "name": "stdout",
     "output_type": "stream",
     "text": [
      "Apple\n",
      "Ball\n",
      "Cat\n",
      "Dog\n",
      "Elephant\n",
      "Apple\n",
      "Ball\n",
      "Cat\n",
      "Dog\n",
      "Elephant\n"
     ]
    }
   ],
   "source": [
    "#loop in list\n",
    "b=[\"Apple\",\"Ball\",\"Cat\",\"Dog\",\"Elephant\" ,\"Apple\",\"Ball\",\"Cat\",\"Dog\",\"Elephant\"]\n",
    "for i in b:\n",
    "    print(i)\n"
   ]
  },
  {
   "cell_type": "code",
   "execution_count": 33,
   "id": "ab7707b4",
   "metadata": {},
   "outputs": [
    {
     "name": "stdout",
     "output_type": "stream",
     "text": [
      "0 Apple\n",
      "1 Ball\n",
      "2 Cat\n",
      "3 Dog\n",
      "4 Elephant\n",
      "5 Apple\n",
      "6 Ball\n",
      "7 Cat\n",
      "8 Dog\n",
      "9 Elephant\n"
     ]
    }
   ],
   "source": [
    "i=0\n",
    "b=[\"Apple\",\"Ball\",\"Cat\",\"Dog\",\"Elephant\" ,\"Apple\",\"Ball\",\"Cat\",\"Dog\",\"Elephant\"]\n",
    "l=len(b)\n",
    "while i<l:\n",
    "    print(i,b[i])\n",
    "    i=i+1"
   ]
  },
  {
   "cell_type": "code",
   "execution_count": 36,
   "id": "3ba3ad0f",
   "metadata": {},
   "outputs": [
    {
     "name": "stdout",
     "output_type": "stream",
     "text": [
      "1\n",
      "2\n",
      "3\n"
     ]
    }
   ],
   "source": [
    "a=[1,2,3]\n",
    "for i in a:\n",
    "    print(i)"
   ]
  },
  {
   "cell_type": "code",
   "execution_count": null,
   "id": "28132f77",
   "metadata": {},
   "outputs": [],
   "source": [
    "#insert values\n",
    "append() insert() extend()\n",
    "\n",
    "#delete values\n",
    "del remove() pop()\n",
    "\n",
    "\n",
    "\n"
   ]
  },
  {
   "cell_type": "code",
   "execution_count": 39,
   "id": "b9b7f216",
   "metadata": {},
   "outputs": [
    {
     "name": "stdout",
     "output_type": "stream",
     "text": [
      "['Apple', 'Ball', 'cat']\n"
     ]
    }
   ],
   "source": [
    "#append\n",
    "a=[]\n",
    "a.append('Apple')\n",
    "a.append('Ball')\n",
    "a.append('cat)\n",
    "print(a)\n"
   ]
  },
  {
   "cell_type": "code",
   "execution_count": 40,
   "id": "d8928515",
   "metadata": {},
   "outputs": [
    {
     "name": "stdout",
     "output_type": "stream",
     "text": [
      "enter no 2\n",
      "enter wordapple\n",
      "enter wordball\n",
      "['apple', 'ball']\n"
     ]
    }
   ],
   "source": [
    "l=[]\n",
    "n=int(input('enter no '))\n",
    "for i in range(n):\n",
    "    x=input('enter word ')\n",
    "    l.append(x)\n",
    "print(l)"
   ]
  },
  {
   "cell_type": "code",
   "execution_count": 42,
   "id": "d59db07c",
   "metadata": {},
   "outputs": [
    {
     "data": {
      "text/plain": [
       "['Apple', 'apple', 'Ball', 'Cat', 'Dog']"
      ]
     },
     "execution_count": 42,
     "metadata": {},
     "output_type": "execute_result"
    }
   ],
   "source": [
    "#insert():to insert in middle\n",
    "a=['Apple','Ball','Cat',\"Dog\"]\n",
    "a.insert(1,'apple')\n",
    "a"
   ]
  },
  {
   "cell_type": "code",
   "execution_count": 45,
   "id": "66b2ed43",
   "metadata": {},
   "outputs": [
    {
     "data": {
      "text/plain": [
       "[1, 2, 3, 4, 5, 6]"
      ]
     },
     "execution_count": 45,
     "metadata": {},
     "output_type": "execute_result"
    }
   ],
   "source": [
    "#extend\n",
    "a=[1,2,3]\n",
    "b=[4,5,6]\n",
    "a.extend(b)\n",
    "a"
   ]
  },
  {
   "cell_type": "code",
   "execution_count": 48,
   "id": "39ea8e72",
   "metadata": {},
   "outputs": [
    {
     "name": "stdout",
     "output_type": "stream",
     "text": [
      "['Cat', 'Dog']\n"
     ]
    }
   ],
   "source": [
    "#delete values: del remove() pop()\n",
    "a=['Apple','Ball','Cat',\"Dog\"]\n",
    "del a[0:2]\n",
    "print(a)"
   ]
  },
  {
   "cell_type": "code",
   "execution_count": 53,
   "id": "264db3ea",
   "metadata": {},
   "outputs": [
    {
     "name": "stdout",
     "output_type": "stream",
     "text": [
      "['Ball', 'Cat', 'Dog', 'Elephant', 'Fish', 'Gun']\n"
     ]
    }
   ],
   "source": [
    "a=['Apple','Ball','Cat',\"Dog\",\"Elephant\",\"Fish\",\"Gun\"]\n",
    "a.remove('Apple')\n",
    "print(a)"
   ]
  },
  {
   "cell_type": "code",
   "execution_count": 52,
   "id": "d33602a0",
   "metadata": {},
   "outputs": [
    {
     "name": "stdout",
     "output_type": "stream",
     "text": [
      "[1, 2, 3, 4, 5, 6, 7, 8, 9]\n"
     ]
    }
   ],
   "source": [
    "a=[0,1,2,3,4,5,6,7,8,9]\n",
    "a.remove(0)\n",
    "print(a)"
   ]
  },
  {
   "cell_type": "code",
   "execution_count": 54,
   "id": "c0cf0646",
   "metadata": {},
   "outputs": [
    {
     "name": "stdout",
     "output_type": "stream",
     "text": [
      "['Ball', 'Cat', 'Dog', 'Elephant', 'Fish', 'Gun']\n"
     ]
    }
   ],
   "source": [
    "a=['Apple','Ball','Cat',\"Dog\",\"Elephant\",\"Fish\",\"Gun\",\"Apple\"]\n",
    "b=a.count('Apple')\n",
    "for i in range(b):\n",
    "    a.remove('Apple')\n",
    "print(a)\n",
    "\n",
    "\n"
   ]
  },
  {
   "cell_type": "code",
   "execution_count": 56,
   "id": "bddfead8",
   "metadata": {},
   "outputs": [
    {
     "name": "stdout",
     "output_type": "stream",
     "text": [
      "['Ball', 'Cat', 'Dog', 'Elephant', 'Fish', 'Gun', 'Apple']\n"
     ]
    }
   ],
   "source": [
    "#pop()\n",
    "a=['Apple','Ball','Cat',\"Dog\",\"Elephant\",\"Fish\",\"Gun\",\"Apple\"]\n",
    "a.pop(0)\n",
    "print(a)"
   ]
  },
  {
   "cell_type": "code",
   "execution_count": 4,
   "id": "7f926018",
   "metadata": {},
   "outputs": [
    {
     "name": "stdout",
     "output_type": "stream",
     "text": [
      "['Ball', 'Cat', 'Dog', 'Elephant', 'Fish', 'Gun', 'Apple']\n",
      "['Zoo', 'Ball', 'Cat', 'Dog', 'Elephant', 'Fish', 'Gun', 'Apple']\n"
     ]
    }
   ],
   "source": [
    "a=['Apple','Ball','Cat',\"Dog\",\"Elephant\",\"Fish\",\"Gun\",\"Apple\"]\n",
    "a.remove('Apple')\n",
    "print(a)\n",
    "a.insert(0,'Zoo')\n",
    "print(a)"
   ]
  },
  {
   "cell_type": "code",
   "execution_count": 9,
   "id": "2042caf9",
   "metadata": {},
   "outputs": [
    {
     "name": "stdout",
     "output_type": "stream",
     "text": [
      "1\n"
     ]
    }
   ],
   "source": [
    "#list inside list\n",
    "a=[[1,2,3],\n",
    "  [4,5,6],\n",
    "  [7,8,9]]\n",
    "print(a[0][0])"
   ]
  },
  {
   "cell_type": "code",
   "execution_count": 13,
   "id": "63bca1b4",
   "metadata": {},
   "outputs": [
    {
     "name": "stdout",
     "output_type": "stream",
     "text": [
      "['Ram', 34, 'Kathmandu']\n",
      "Ram\n"
     ]
    }
   ],
   "source": [
    "a=[[\"Ram\",34,\"Kathmandu\"],\n",
    "  [\"Shyam\",22,\"Pokhara\"],\n",
    "  [\"Hari\",21,\"Bhaktapur\"]]\n",
    "print(a[0])\n",
    "print(a[0][0])"
   ]
  },
  {
   "cell_type": "code",
   "execution_count": 14,
   "id": "a01d8c51",
   "metadata": {
    "scrolled": true
   },
   "outputs": [
    {
     "name": "stdout",
     "output_type": "stream",
     "text": [
      "Enter n 3\n",
      "Enter name= ram\n",
      "Enter age= 23\n",
      "Enter address= ktm\n",
      "Enter name= hari\n",
      "Enter age= 32\n",
      "Enter address= lpr\n",
      "Enter name= shyam\n",
      "Enter age= 78\n",
      "Enter address= bkt\n",
      "[['ram', 23, 'ktm'], ['hari', 32, 'lpr'], ['shyam', 78, 'bkt']]\n"
     ]
    }
   ],
   "source": [
    "l=[]\n",
    "n=int(input(\"Enter n \"))\n",
    "for i in range(n):\n",
    "    name=input(\"Enter name= \")\n",
    "    age=int(input(\"Enter age= \"))\n",
    "    add=input('Enter address= ')\n",
    "    info=[name,age,add]\n",
    "    l.append(info)\n",
    "print(l)"
   ]
  },
  {
   "cell_type": "code",
   "execution_count": 19,
   "id": "333bd9ba",
   "metadata": {},
   "outputs": [
    {
     "data": {
      "text/plain": [
       "[['ram', 23, 'ktm'],\n",
       " ['hari', 32, 'lpr'],\n",
       " ['shyam', 78, 'bkt'],\n",
       " ['Vea', 32, 'pkr']]"
      ]
     },
     "execution_count": 19,
     "metadata": {},
     "output_type": "execute_result"
    }
   ],
   "source": [
    "l=[['ram', 23, 'ktm'], ['hari', 32, 'lpr'], ['shyam', 78, 'bkt']]\n",
    "#add new value\n",
    "l.append([\"Vea\",32,\"pkr\"])\n",
    "l"
   ]
  },
  {
   "cell_type": "code",
   "execution_count": 21,
   "id": "b6a73639",
   "metadata": {},
   "outputs": [
    {
     "data": {
      "text/plain": [
       "[['Shiva', 13, 'ktm'],\n",
       " ['hari', 32, 'lpr'],\n",
       " ['shyam', 78, 'bkt'],\n",
       " ['Alan', 32, 'pkr']]"
      ]
     },
     "execution_count": 21,
     "metadata": {},
     "output_type": "execute_result"
    }
   ],
   "source": [
    "#update value\n",
    "l[0]=[\"Shiva\",13,\"ktm\"]\n",
    "l\n",
    "l[3][0]=\"Alan\"\n",
    "l"
   ]
  },
  {
   "cell_type": "code",
   "execution_count": 27,
   "id": "19570355",
   "metadata": {},
   "outputs": [
    {
     "name": "stdout",
     "output_type": "stream",
     "text": [
      "Enter the name= SHYAM\n",
      "['shyam', 78, 'bkt']\n",
      "1 no. of rows found\n"
     ]
    }
   ],
   "source": [
    "data=[['Shiva', 13, 'ktm'],\n",
    " ['hari', 32, 'lpr'],\n",
    " ['shyam', 78, 'bkt'],\n",
    " ['Alan', 32, 'pkr']]\n",
    "count=0\n",
    "a=input('Enter the name= ')\n",
    "for i in data:\n",
    "    \n",
    "    if i[0].lower()==a.lower():\n",
    "        print(i)\n",
    "        count=count+1\n",
    "if count==0:\n",
    "    print('name not found')\n",
    "else:\n",
    "    print(count, \"no. of rows found\")\n",
    "\n",
    "\n",
    "\n",
    "    \n",
    "   \n",
    "    \n",
    "     \n"
   ]
  },
  {
   "cell_type": "code",
   "execution_count": 23,
   "id": "6f0f7440",
   "metadata": {},
   "outputs": [
    {
     "name": "stdout",
     "output_type": "stream",
     "text": [
      "Enter a Name= Ram\n",
      "Yes\n",
      "1\n"
     ]
    }
   ],
   "source": [
    "a=[\"Ram\",\"Shyam\",\"Hari\"]\n",
    "b=input('Enter a Name= ')\n",
    "if b in a:\n",
    "    print('Yes')\n",
    "    print(a.count('Ram'))\n",
    "else:\n",
    "    print('No Name')"
   ]
  },
  {
   "cell_type": "code",
   "execution_count": null,
   "id": "8521bbe0",
   "metadata": {},
   "outputs": [],
   "source": [
    "#WAP to create matrix taking no of rows, coulmns and input\n",
    "#WAP to convert string into list inside list (billing system into list inside list) [[apple 2 300],[banana, 4,200]]\n",
    "#WAP to create result management system in list inside list and perform CRUD"
   ]
  },
  {
   "cell_type": "code",
   "execution_count": 1,
   "id": "e0852731",
   "metadata": {},
   "outputs": [
    {
     "name": "stdout",
     "output_type": "stream",
     "text": [
      "Enter no. of rows= 2\n",
      "Enter no. of columns= 3\n",
      "Enter rows element (1, 1)=  1\n",
      "Enter rows element (1, 2)=  2\n",
      "Enter rows element (2, 1)=  3\n",
      "Enter rows element (2, 2)=  4\n",
      "Enter rows element (3, 1)=  5\n",
      "Enter rows element (3, 2)=  6\n",
      "[[1, 2], [3, 4], [5, 6]]\n"
     ]
    }
   ],
   "source": [
    "# WAP to create matrix taking no of rows, coulmns and input\n",
    "rlist = []\n",
    "l = []\n",
    "rows = int(input(\"Enter no. of rows= \"))\n",
    "columns = int(input('Enter no. of columns= '))\n",
    "for i in range(columns):\n",
    "\n",
    "    for j in range(rows):\n",
    "        no = int(input(f\"Enter rows element {(i+1,j+1)}=  \"))\n",
    "\n",
    "        rlist = rlist+[no]\n",
    "\n",
    "    l.append(rlist)\n",
    "    rlist = []\n",
    "print(l)"
   ]
  },
  {
   "cell_type": "code",
   "execution_count": 7,
   "id": "5482da64",
   "metadata": {},
   "outputs": [
    {
     "name": "stdout",
     "output_type": "stream",
     "text": [
      "Enter the no. of food items= 5\n",
      "Enter the name of food= momo\n",
      "Enter the rate= 230\n",
      "Enter the quantity= 3\n",
      "Enter the name of food= pizza\n",
      "Enter the rate= 234\n",
      "Enter the quantity= 3\n",
      "Enter the name of food= apple\n",
      "Enter the rate= 20\n",
      "Enter the quantity= 10\n",
      "Enter the name of food= banana\n",
      "Enter the rate= 15\n",
      "Enter the quantity= 24\n",
      "Enter the name of food= milk\n",
      "Enter the rate= 35\n",
      "Enter the quantity= 4\n",
      "[['momo', 230, 3, 690], ['pizza', 234, 3, 702], ['apple', 20, 10, 200], ['banana', 15, 24, 360], ['milk', 35, 4, 140]]\n",
      "Total=  2092\n"
     ]
    }
   ],
   "source": [
    "#WAP to convert string into list inside list\n",
    "list = []\n",
    "gross=0\n",
    "no = int(input(\"Enter the no. of food items= \"))\n",
    "for i in range(no):\n",
    "    name = input(\"Enter the name of food= \")\n",
    "    rate = int(input(\"Enter the rate= \"))\n",
    "    qty = int(input(\"Enter the quantity= \"))\n",
    "    total = rate*qty\n",
    "    list1 = [name, rate, qty, total]\n",
    "    list.append(list1)\n",
    "    gross=gross+total\n",
    "\n",
    "print(list)\n",
    "print('Total= ',gross)\n"
   ]
  },
  {
   "cell_type": "code",
   "execution_count": 17,
   "id": "0ef478cf",
   "metadata": {},
   "outputs": [
    {
     "name": "stdout",
     "output_type": "stream",
     "text": [
      "Enter the no. of students= 2\n",
      "Enter your name= mpl\n",
      "physics= 68\n",
      "chemistry= 90\n",
      "maths= 84\n",
      "English= 48\n",
      "Enter your name= ram\n",
      "physics= 122\n",
      "chemistry= 233\n",
      "maths= 143\n",
      "English= 244\n",
      "Invalid marks\n",
      "[['mpl', 68, 90, 84, 48, 72.5]]\n"
     ]
    }
   ],
   "source": [
    "#WAP to create result management system in list inside list and perform CRUD\n",
    "l=[]\n",
    "n=int(input(\"Enter the no. of students= \"))\n",
    "for i in range(n):\n",
    "\n",
    "    name=input(\"Enter your name= \")\n",
    "    p=int(input(\"physics= \"))\n",
    "    c=int(input(\"chemistry= \"))\n",
    "    math=int(input(\"maths= \"))\n",
    "    eng=int(input(\"English= \"))\n",
    "    if 0<p<100 and 0<c<100 and 0<math<100 and 0<eng<100: \n",
    "        total=p+c+math+eng\n",
    "        percentage=(total)/400 *100\n",
    "        l.append([name, p,c,math,eng,percentage] )\n",
    "    else:\n",
    "        print(\"Invalid marks\")\n",
    "   \n",
    "    \n",
    "print(l)\n",
    "\n",
    "\n",
    "\n",
    "\n"
   ]
  },
  {
   "cell_type": "code",
   "execution_count": 6,
   "id": "4dccc4d6",
   "metadata": {},
   "outputs": [
    {
     "name": "stdout",
     "output_type": "stream",
     "text": [
      "[['Momo', '2', '200', '400'], ['pizza', '2', '300', '600']]\n"
     ]
    }
   ],
   "source": [
    "list=[]\n",
    "a=\"Momo 2 200 400\"\n",
    "b=\"pizza 2 300 600\"\n",
    "a=a.split()\n",
    "b=b.split()\n",
    "list.append(a)\n",
    "list.append(b)\n",
    "print(list)\n",
    "\n",
    "\n"
   ]
  },
  {
   "cell_type": "code",
   "execution_count": null,
   "id": "f7c60dbd",
   "metadata": {},
   "outputs": [],
   "source": [
    "# #Dictionary\n",
    "# -indexing\n",
    "# -Multiple and duplicate data\n",
    "# -ordered\n",
    "# -Mutable"
   ]
  },
  {
   "cell_type": "code",
   "execution_count": 1,
   "id": "cf45f06b",
   "metadata": {},
   "outputs": [],
   "source": [
    "# d={<key>:<value>,<key>:<value>}"
   ]
  },
  {
   "cell_type": "code",
   "execution_count": 2,
   "id": "f76339ae",
   "metadata": {},
   "outputs": [
    {
     "data": {
      "text/plain": [
       "{'a': 'Apple', 'b': 'Ball', 'c': 'Cat'}"
      ]
     },
     "execution_count": 2,
     "metadata": {},
     "output_type": "execute_result"
    }
   ],
   "source": [
    "d={'a':'Apple','b':'Ball','c':'Cat'}\n",
    "d"
   ]
  },
  {
   "cell_type": "code",
   "execution_count": 5,
   "id": "1cd5a0ec",
   "metadata": {},
   "outputs": [
    {
     "name": "stdout",
     "output_type": "stream",
     "text": [
      "Apple\n",
      "Ball\n"
     ]
    }
   ],
   "source": [
    "print(d['a'])\n",
    "print(d['b'])# same key should not be multiple"
   ]
  },
  {
   "cell_type": "code",
   "execution_count": 6,
   "id": "67303cb4",
   "metadata": {},
   "outputs": [
    {
     "data": {
      "text/plain": [
       "{'a': 'Apple', 'b': 'Ball', 'c': 'cat'}"
      ]
     },
     "execution_count": 6,
     "metadata": {},
     "output_type": "execute_result"
    }
   ],
   "source": [
    "d={'a':'Apple','b':'Ball','c':'Cat','c':'cat'}\n",
    "d"
   ]
  },
  {
   "cell_type": "code",
   "execution_count": 7,
   "id": "ac85acbd",
   "metadata": {},
   "outputs": [
    {
     "data": {
      "text/plain": [
       "dict"
      ]
     },
     "execution_count": 7,
     "metadata": {},
     "output_type": "execute_result"
    }
   ],
   "source": [
    "#creating a dict\n",
    "d={}\n",
    "type(d)\n"
   ]
  },
  {
   "cell_type": "code",
   "execution_count": 8,
   "id": "bde3e2c1",
   "metadata": {},
   "outputs": [
    {
     "data": {
      "text/plain": [
       "dict"
      ]
     },
     "execution_count": 8,
     "metadata": {},
     "output_type": "execute_result"
    }
   ],
   "source": [
    "#creating a dict\n",
    "d=dict()\n",
    "type(d)\n"
   ]
  },
  {
   "cell_type": "code",
   "execution_count": 9,
   "id": "311aa5b5",
   "metadata": {},
   "outputs": [
    {
     "data": {
      "text/plain": [
       "{'a': 'Apple', 'b': 'Ball', 'c': 'Cat'}"
      ]
     },
     "execution_count": 9,
     "metadata": {},
     "output_type": "execute_result"
    }
   ],
   "source": [
    "#add values\n",
    "d={}\n",
    "d['a']='Apple'\n",
    "d['b']=\"Ball\"\n",
    "d['c']='Cat'\n",
    "d\n"
   ]
  },
  {
   "cell_type": "code",
   "execution_count": 11,
   "id": "3f04c3d2",
   "metadata": {},
   "outputs": [
    {
     "data": {
      "text/plain": [
       "{'a': 'Ant', 'b': 'Ball', 'c': 'Cat'}"
      ]
     },
     "execution_count": 11,
     "metadata": {},
     "output_type": "execute_result"
    }
   ],
   "source": [
    "#update values\n",
    "d={'a': 'Apple', 'b': 'Ball', 'c': 'Cat'}\n",
    "d['a']='Ant'\n",
    "d"
   ]
  },
  {
   "cell_type": "code",
   "execution_count": 12,
   "id": "d225495e",
   "metadata": {},
   "outputs": [
    {
     "name": "stdout",
     "output_type": "stream",
     "text": [
      "a\n",
      "b\n",
      "c\n"
     ]
    }
   ],
   "source": [
    "#Reading\n",
    "d={'a': 'Apple', 'b': 'Ball', 'c': 'Cat'}\n",
    "for i in d:\n",
    "    print(i)"
   ]
  },
  {
   "cell_type": "code",
   "execution_count": 13,
   "id": "4658a54b",
   "metadata": {},
   "outputs": [
    {
     "name": "stdout",
     "output_type": "stream",
     "text": [
      "Apple\n",
      "Ball\n",
      "Cat\n"
     ]
    }
   ],
   "source": [
    "#Reading\n",
    "d={'a': 'Apple', 'b': 'Ball', 'c': 'Cat'}\n",
    "for i in d.values():\n",
    "    print(i)"
   ]
  },
  {
   "cell_type": "code",
   "execution_count": 14,
   "id": "4ff19c98",
   "metadata": {},
   "outputs": [
    {
     "name": "stdout",
     "output_type": "stream",
     "text": [
      "('a', 'Apple')\n",
      "('b', 'Ball')\n",
      "('c', 'Cat')\n"
     ]
    }
   ],
   "source": [
    "#Reading\n",
    "d={'a': 'Apple', 'b': 'Ball', 'c': 'Cat'}\n",
    "for i in d.items():\n",
    "    print(i)"
   ]
  },
  {
   "cell_type": "code",
   "execution_count": 15,
   "id": "99724269",
   "metadata": {},
   "outputs": [
    {
     "data": {
      "text/plain": [
       "{'a': 'Ant', 'b': 'Ball', 'c': 'Cat'}"
      ]
     },
     "execution_count": 15,
     "metadata": {},
     "output_type": "execute_result"
    }
   ],
   "source": [
    "#list to dict\n",
    "d=[['a','Ant'],['b',\"Ball\"],['c','Cat']]#list inside list with only 2 values\n",
    "dict(d)"
   ]
  },
  {
   "cell_type": "code",
   "execution_count": 16,
   "id": "03f90883",
   "metadata": {},
   "outputs": [
    {
     "name": "stdout",
     "output_type": "stream",
     "text": [
      "Enter no. of users= 2\n",
      "Enter name= ram\n",
      "Enter phone no. 1234\n",
      "Enter name= shyam\n",
      "Enter phone no. 12345\n",
      "{'ram': 1234, 'shyam': 12345}\n"
     ]
    }
   ],
   "source": [
    "data={}\n",
    "n=int(input(\"Enter no. of users= \"))\n",
    "for i in range(n):\n",
    "    name=input(\"Enter name= \")\n",
    "    phone=int(input(\"Enter phone no= \"))\n",
    "    data[name]=phone\n",
    "print(data)"
   ]
  },
  {
   "cell_type": "code",
   "execution_count": 17,
   "id": "35f3cf79",
   "metadata": {},
   "outputs": [
    {
     "ename": "TypeError",
     "evalue": "unhashable type: 'list'",
     "output_type": "error",
     "traceback": [
      "\u001b[1;31m---------------------------------------------------------------------------\u001b[0m",
      "\u001b[1;31mTypeError\u001b[0m                                 Traceback (most recent call last)",
      "Cell \u001b[1;32mIn[17], line 2\u001b[0m\n\u001b[0;32m      1\u001b[0m \u001b[38;5;66;03m# No list as key in dict\u001b[39;00m\n\u001b[1;32m----> 2\u001b[0m d\u001b[38;5;241m=\u001b[39m{[\u001b[38;5;124m'\u001b[39m\u001b[38;5;124mram\u001b[39m\u001b[38;5;124m'\u001b[39m]: \u001b[38;5;241m1234\u001b[39m, [\u001b[38;5;124m'\u001b[39m\u001b[38;5;124mshyam\u001b[39m\u001b[38;5;124m'\u001b[39m]: \u001b[38;5;241m12345\u001b[39m}\n\u001b[0;32m      3\u001b[0m d\n",
      "\u001b[1;31mTypeError\u001b[0m: unhashable type: 'list'"
     ]
    }
   ],
   "source": [
    "# No list as key in dict\n",
    "d={['ram']: 1234, ['shyam']: 12345}\n",
    "d\n"
   ]
  },
  {
   "cell_type": "code",
   "execution_count": 18,
   "id": "4892730d",
   "metadata": {},
   "outputs": [
    {
     "data": {
      "text/plain": [
       "{'ram': [9818456135, 9749322755], 'shyam': [9818247814, 9851058234]}"
      ]
     },
     "execution_count": 18,
     "metadata": {},
     "output_type": "execute_result"
    }
   ],
   "source": [
    "#list can be in value\n",
    "#list inside dictionary\n",
    "d={'ram': [9818456135,9749322755], 'shyam': [9818247814,9851058234]}\n",
    "d\n"
   ]
  },
  {
   "cell_type": "code",
   "execution_count": 4,
   "id": "ef5a1807",
   "metadata": {},
   "outputs": [
    {
     "name": "stdout",
     "output_type": "stream",
     "text": [
      "Enter no. of users= 3\n",
      "Enter name= ram\n",
      "Enter the no. of phone number2\n",
      "Enter phone no.123\n",
      "Enter phone no.234\n",
      "Enter name= shyam\n",
      "Enter the no. of phone number2\n",
      "Enter phone no.456\n",
      "Enter phone no.789\n",
      "Enter name= hari\n",
      "Enter the no. of phone number2\n",
      "Enter phone no.5678\n",
      "Enter phone no.432\n",
      "{'ram': [123, 234], 'shyam': [456, 789], 'hari': [5678, 432]}\n"
     ]
    }
   ],
   "source": [
    "data={}\n",
    "phone=[]\n",
    "n=int(input(\"Enter no. of users= \"))\n",
    "for i in range(n):\n",
    "    name=input(\"Enter name= \")\n",
    "    k=int(input(\"Enter the no. of phone number\"))\n",
    "    phone=[]\n",
    "    for j in range(k):\n",
    "        \n",
    "        p=int(input(\"Enter phone no.\"))\n",
    "        phone.append(p)\n",
    "        data[name]=phone\n",
    "   \n",
    "print(data)"
   ]
  },
  {
   "cell_type": "code",
   "execution_count": 6,
   "id": "bee9a519",
   "metadata": {},
   "outputs": [
    {
     "ename": "SyntaxError",
     "evalue": "invalid syntax. Perhaps you forgot a comma? (524188111.py, line 2)",
     "output_type": "error",
     "traceback": [
      "\u001b[1;36m  Cell \u001b[1;32mIn[6], line 2\u001b[1;36m\u001b[0m\n\u001b[1;33m    'name':['Ram','Shyam',\"Hari\"]\u001b[0m\n\u001b[1;37m           ^\u001b[0m\n\u001b[1;31mSyntaxError\u001b[0m\u001b[1;31m:\u001b[0m invalid syntax. Perhaps you forgot a comma?\n"
     ]
    }
   ],
   "source": [
    "data={\n",
    "    'name':['Ram','Shyam',\"Hari\"],\n",
    "    'age':[78,67,89],\n",
    "    'add':['Kathmandu',\"Bhaktapur\",\"Lalitpur\"]\n",
    "}"
   ]
  },
  {
   "cell_type": "code",
   "execution_count": 2,
   "id": "38818709",
   "metadata": {},
   "outputs": [
    {
     "data": {
      "text/plain": [
       "{'name': ['Ram', 'Shyam', 'Hari'],\n",
       " 'age': [78, 67, 89],\n",
       " 'add': ['Kathmandu', 'Bhaktapur', 'Lalitpur']}"
      ]
     },
     "execution_count": 2,
     "metadata": {},
     "output_type": "execute_result"
    }
   ],
   "source": [
    "data={\n",
    "    'name':['Ram','Shyam',\"Hari\"],\n",
    "    'age':[78,67,89],\n",
    "    'add':['Kathmandu',\"Bhaktapur\",\"Lalitpur\"]\n",
    "}\n",
    "data"
   ]
  },
  {
   "cell_type": "code",
   "execution_count": 7,
   "id": "29c3f44e",
   "metadata": {},
   "outputs": [
    {
     "name": "stdout",
     "output_type": "stream",
     "text": [
      "Enter n= 2\n",
      "Enter name= mpl\n",
      "Enter age= 13\n",
      "Enter address= asd\n",
      "Enter name= mmm\n",
      "Enter age= 23\n",
      "Enter address= asd\n",
      "{'name': ['mpl', 'mmm'], 'age': [13, 23], 'add': ['asd', 'asd']}\n"
     ]
    }
   ],
   "source": [
    "data={'name':[],\n",
    "     'age':[],\n",
    "     'add':[]}\n",
    "n=int(input('Enter n= '))\n",
    "for i in range(n):\n",
    "    name=input('Enter name= ')\n",
    "    age=int(input(\"Enter age= \"))\n",
    "    add=input(\"Enter address= \")\n",
    "    data['name'].append(name)\n",
    "    data['age'].append(age)\n",
    "    data['add'].append(add)\n",
    "print(data)\n",
    "    "
   ]
  },
  {
   "cell_type": "code",
   "execution_count": 13,
   "id": "0c7254a4",
   "metadata": {},
   "outputs": [
    {
     "name": "stdout",
     "output_type": "stream",
     "text": [
      "mpl\n",
      "13\n",
      "asd\n"
     ]
    }
   ],
   "source": [
    "#details\n",
    "d={'name': ['mpl', 'mmm'], 'age': [13, 23], 'add': ['asd', 'asd']}\n",
    "print(d['name'][0])\n",
    "print(d['age'][0])\n",
    "print(d['add'][0])\n"
   ]
  },
  {
   "cell_type": "code",
   "execution_count": null,
   "id": "1cb99942",
   "metadata": {},
   "outputs": [],
   "source": [
    "#WAP to edit and delete"
   ]
  },
  {
   "cell_type": "code",
   "execution_count": 1,
   "id": "a073b1ee",
   "metadata": {},
   "outputs": [],
   "source": [
    "#dict inside dict:\n",
    "data={'physics':{'ptr':24,'th':34},\n",
    "      'chemistry':{'ptr':34,'th':56},\n",
    "      'Maths':{'ptr':34,'th':98}\n",
    "     }"
   ]
  },
  {
   "cell_type": "code",
   "execution_count": 2,
   "id": "54f1682c",
   "metadata": {},
   "outputs": [
    {
     "name": "stdout",
     "output_type": "stream",
     "text": [
      "24\n"
     ]
    }
   ],
   "source": [
    "print(data['physics']['ptr'])"
   ]
  },
  {
   "cell_type": "code",
   "execution_count": 1,
   "id": "8e39bb82",
   "metadata": {},
   "outputs": [
    {
     "name": "stdout",
     "output_type": "stream",
     "text": [
      "Enter name= mpl\n",
      "Enter marks of physics, chem, mathematics\n",
      "Enter your marks for physics\n",
      "Enter practical = 25\n",
      "Enter theory= 67\n",
      "Enter your marks for chemistry\n",
      "Enter practical = 53\n",
      "Enter theory= 45\n",
      "Enter your marks for Maths\n",
      "Enter practical = 32\n",
      "Enter theory= 67\n",
      "{'Name': ['mpl'], 'physics': {'ptr': 25, 'th': 67}, 'chemistry': {'ptr': 53, 'th': 45}, 'Maths': {'ptr': 32, 'th': 67}}\n",
      "Type 'Y' for final print and 'N' for edit\n",
      "Enter your decision= Y\n",
      "{'Name': ['mpl'], 'physics': {'ptr': 25, 'th': 67}, 'chemistry': {'ptr': 53, 'th': 45}, 'Maths': {'ptr': 32, 'th': 67}}\n"
     ]
    }
   ],
   "source": [
    "# WAP to create dict inside dict\n",
    "# C-create R-read u-update d-delete\n",
    "\n",
    "# Data Entry\n",
    "data = {\n",
    "    \"Name\": [],\n",
    "    \"physics\": {\"ptr\": 0, \"th\": 0},\n",
    "    \"chemistry\": {\"ptr\": 0, \"th\": 0},\n",
    "    \"Maths\": {\"ptr\": 0, \"th\": 0},\n",
    "}\n",
    "s = [\"physics\", \"chemistry\", \"Maths\"]\n",
    "name = input(\"Enter name= \")\n",
    "data[\"Name\"].append(name)\n",
    "print(\"Enter marks of physics, chem, mathematics\")\n",
    "for i in s:\n",
    "    for j in range(1):\n",
    "        print(f\"Enter your marks for {i}\")\n",
    "        ptr = int(input(\"Enter practical = \"))\n",
    "        th = int(input(\"Enter theory= \"))\n",
    "        data[i][\"ptr\"] = ptr\n",
    "        data[i][\"th\"] = th\n",
    "print(data)\n",
    "\n",
    "# For Edit\n",
    "\n",
    "print(\"Type 'Y' for final print and 'N' for edit\")\n",
    "dec = input(\"Enter your decision= \")\n",
    "if dec == \"N\":\n",
    "    print(\"Select 'physics' or 'chemistry' or 'Maths' or 'All'\")\n",
    "    dec1 = input(\"Enter your subject of edit= \")\n",
    "    if dec1 == \"physics\":\n",
    "        ptr = int(input(\"Enter practical = \"))\n",
    "        th = int(input(\"Enter theory= \"))\n",
    "        data[\"physics\"][\"ptr\"] = ptr\n",
    "        data[\"physics\"][\"th\"] = th\n",
    "        print(data)\n",
    "    elif dec1 == \"chemistry\":\n",
    "        ptr = int(input(\"Enter practical = \"))\n",
    "        th = int(input(\"Enter theory= \"))\n",
    "        data[\"chemistry\"][\"ptr\"] = ptr\n",
    "        data[\"chemistry\"][\"th\"] = th\n",
    "        print(data)\n",
    "    elif dec1 == \"Maths\":\n",
    "        ptr = int(input(\"Enter practical = \"))\n",
    "        th = int(input(\"Enter theory= \"))\n",
    "        data[\"Maths\"][\"ptr\"] = ptr\n",
    "        data[\"Maths\"][\"th\"] = th\n",
    "        print(data)\n",
    "    elif dec1 == \"All\":\n",
    "        for i in s:\n",
    "            for j in range(1):\n",
    "                print(f\"Enter your marks for {i}\")\n",
    "                ptr = int(input(\"Enter practical = \"))\n",
    "                th = int(input(\"Enter theory= \"))\n",
    "                data[i][\"ptr\"] = ptr\n",
    "                data[i][\"th\"] = th\n",
    "        print(data)\n",
    "    else:\n",
    "        print(\"Syntax Error\")\n",
    "        print(data)\n",
    "else:\n",
    "    print(data)\n"
   ]
  },
  {
   "cell_type": "code",
   "execution_count": 2,
   "id": "b4febc9e",
   "metadata": {},
   "outputs": [
    {
     "name": "stdout",
     "output_type": "stream",
     "text": [
      "Enter n= 2\n",
      "Enter name= mpl\n",
      "Enter age= 17\n",
      "Enter address= ktm\n",
      "Enter name= ram\n",
      "Enter age= 34\n",
      "Enter address= ktm\n",
      "{1: {'name': 'mpl', 'age': 17, 'add': 'ktm'}, 2: {'name': 'ram', 'age': 34, 'add': 'ktm'}}\n"
     ]
    }
   ],
   "source": [
    "data={}\n",
    "n=int(input(\"Enter n= \"))\n",
    "for i in range(1,n+1):\n",
    "    name=input(\"Enter name= \")\n",
    "    age=int(input(\"Enter age= \"))\n",
    "    add=input(\"Enter address= \")\n",
    "    data[i]={'name':name, 'age':age, \"add\":add}\n",
    "print(data)"
   ]
  },
  {
   "cell_type": "code",
   "execution_count": null,
   "id": "2a04504d",
   "metadata": {},
   "outputs": [],
   "source": []
  }
 ],
 "metadata": {
  "kernelspec": {
   "display_name": "Python 3 (ipykernel)",
   "language": "python",
   "name": "python3"
  },
  "language_info": {
   "codemirror_mode": {
    "name": "ipython",
    "version": 3
   },
   "file_extension": ".py",
   "mimetype": "text/x-python",
   "name": "python",
   "nbconvert_exporter": "python",
   "pygments_lexer": "ipython3",
   "version": "3.11.3"
  }
 },
 "nbformat": 4,
 "nbformat_minor": 5
}
