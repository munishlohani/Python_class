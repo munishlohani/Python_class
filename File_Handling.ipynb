{
 "cells": [
  {
   "cell_type": "code",
   "execution_count": 1,
   "id": "895b4335",
   "metadata": {},
   "outputs": [],
   "source": [
    "# file=open('<file name>',modes)\n",
    "# file.close()\n",
    "\n",
    "# with open('<file name>',<modes>) as file:\n",
    "#     <operation>"
   ]
  },
  {
   "cell_type": "code",
   "execution_count": 2,
   "id": "176409e2",
   "metadata": {},
   "outputs": [],
   "source": [
    "#modes:\n",
    "# r=read\n",
    "# w=write\n",
    "# x=create \n",
    "# a=append\n"
   ]
  },
  {
   "cell_type": "code",
   "execution_count": 3,
   "id": "2b1effbd",
   "metadata": {},
   "outputs": [
    {
     "ename": "FileExistsError",
     "evalue": "[Errno 17] File exists: 'data.txt'",
     "output_type": "error",
     "traceback": [
      "\u001b[1;31m---------------------------------------------------------------------------\u001b[0m",
      "\u001b[1;31mFileExistsError\u001b[0m                           Traceback (most recent call last)",
      "Cell \u001b[1;32mIn[3], line 1\u001b[0m\n\u001b[1;32m----> 1\u001b[0m file\u001b[38;5;241m=\u001b[39m\u001b[38;5;28mopen\u001b[39m(\u001b[38;5;124m'\u001b[39m\u001b[38;5;124mdata.txt\u001b[39m\u001b[38;5;124m'\u001b[39m,\u001b[38;5;124m'\u001b[39m\u001b[38;5;124mx\u001b[39m\u001b[38;5;124m'\u001b[39m)\n\u001b[0;32m      2\u001b[0m file\u001b[38;5;241m.\u001b[39mclose()\n",
      "File \u001b[1;32mD:\\anaconda\\Lib\\site-packages\\IPython\\core\\interactiveshell.py:284\u001b[0m, in \u001b[0;36m_modified_open\u001b[1;34m(file, *args, **kwargs)\u001b[0m\n\u001b[0;32m    277\u001b[0m \u001b[38;5;28;01mif\u001b[39;00m file \u001b[38;5;129;01min\u001b[39;00m {\u001b[38;5;241m0\u001b[39m, \u001b[38;5;241m1\u001b[39m, \u001b[38;5;241m2\u001b[39m}:\n\u001b[0;32m    278\u001b[0m     \u001b[38;5;28;01mraise\u001b[39;00m \u001b[38;5;167;01mValueError\u001b[39;00m(\n\u001b[0;32m    279\u001b[0m         \u001b[38;5;124mf\u001b[39m\u001b[38;5;124m\"\u001b[39m\u001b[38;5;124mIPython won\u001b[39m\u001b[38;5;124m'\u001b[39m\u001b[38;5;124mt let you open fd=\u001b[39m\u001b[38;5;132;01m{\u001b[39;00mfile\u001b[38;5;132;01m}\u001b[39;00m\u001b[38;5;124m by default \u001b[39m\u001b[38;5;124m\"\u001b[39m\n\u001b[0;32m    280\u001b[0m         \u001b[38;5;124m\"\u001b[39m\u001b[38;5;124mas it is likely to crash IPython. If you know what you are doing, \u001b[39m\u001b[38;5;124m\"\u001b[39m\n\u001b[0;32m    281\u001b[0m         \u001b[38;5;124m\"\u001b[39m\u001b[38;5;124myou can use builtins\u001b[39m\u001b[38;5;124m'\u001b[39m\u001b[38;5;124m open.\u001b[39m\u001b[38;5;124m\"\u001b[39m\n\u001b[0;32m    282\u001b[0m     )\n\u001b[1;32m--> 284\u001b[0m \u001b[38;5;28;01mreturn\u001b[39;00m io_open(file, \u001b[38;5;241m*\u001b[39margs, \u001b[38;5;241m*\u001b[39m\u001b[38;5;241m*\u001b[39mkwargs)\n",
      "\u001b[1;31mFileExistsError\u001b[0m: [Errno 17] File exists: 'data.txt'"
     ]
    }
   ],
   "source": [
    "\n",
    "    file=open('data.txt','x')\n",
    "    file.close()\n"
   ]
  },
  {
   "cell_type": "code",
   "execution_count": null,
   "id": "cd700f7e",
   "metadata": {},
   "outputs": [],
   "source": [
    "file=open('data.txt','r')\n",
    "y=file.read()\n",
    "print(y)\n",
    "print(type(y))\n",
    "file.close()"
   ]
  },
  {
   "cell_type": "code",
   "execution_count": null,
   "id": "1f947e2e",
   "metadata": {},
   "outputs": [],
   "source": [
    "y.split('\\n')"
   ]
  },
  {
   "cell_type": "code",
   "execution_count": null,
   "id": "12ccdc0d",
   "metadata": {},
   "outputs": [],
   "source": [
    "file=open('new_data.txt','w')\n",
    "file.write('Hello World')\n",
    "file.close()\n"
   ]
  },
  {
   "cell_type": "code",
   "execution_count": null,
   "id": "45d11c44",
   "metadata": {},
   "outputs": [],
   "source": [
    "#bill\n",
    "t=0\n",
    "b=0\n",
    "s=\"\"\n",
    "a=int(input('Enter the number of food items ordered: '))\n",
    "for i in range(a):\n",
    "    name=input('Enter the name of food: ')\n",
    "    price=float(input('Enter the price of the item: '))\n",
    "    qty=int(input('Enter the quantity of the item: '))\n",
    "    total=price*qty\n",
    "    total_vat=(price*qty)+(price*qty)*0.13\n",
    "    s=s+ f\"{i+1}. Name of item= {name}     Price of item= {price}     Quantity= {qty}     Amount= {total}     Amount with VAT={total_vat} \\n\"\n",
    "    t=(t+total_vat)\n",
    "    b=b+total\n",
    "print(s)\n",
    "print(\"Total amount: \",b)\n",
    "print(\"Total amount with VAT(13%): \",t)\n",
    "\n",
    "file=open('new_data.txt','w')\n",
    "file.write(f\"{s} \\n Total amount= {b} \\n Total amount with VAT= {t}\")\n",
    "file.close()\n",
    "\n",
    "    "
   ]
  },
  {
   "cell_type": "code",
   "execution_count": null,
   "id": "83790210",
   "metadata": {},
   "outputs": [],
   "source": [
    "#bill\n",
    "t=0\n",
    "b=0\n",
    "s=\"\"\n",
    "a=int(input('Enter the number of food items ordered: '))\n",
    "for i in range(a):\n",
    "    name=input('Enter the name of food: ')\n",
    "    price=float(input('Enter the price of the item: '))\n",
    "    qty=int(input('Enter the quantity of the item: '))\n",
    "    total=price*qty\n",
    "    total_vat=(price*qty)+(price*qty)*0.13\n",
    "    s=s+ f\"{i+1}. Name of item= {name}     Price of item= {price}     Quantity= {qty}     Amount= {total}     Amount with VAT={total_vat} \\n\"\n",
    "    t=(t+total_vat)\n",
    "    b=b+total\n",
    "print(s)\n",
    "print(\"Total amount: \",b)\n",
    "print(\"Total amount with VAT(13%): \",t)\n",
    "\n",
    "file=open('new_data.txt','a')\n",
    "file.write(f\"{s} \\n Total amount= {b} \\n Total amount with VAT= {t}\")\n",
    "file.close()\n",
    "\n",
    "    "
   ]
  },
  {
   "cell_type": "code",
   "execution_count": null,
   "id": "a02f7cee",
   "metadata": {},
   "outputs": [],
   "source": [
    "#bill\n",
    "t=0\n",
    "b=0\n",
    "s=\"\"\n",
    "a=int(input('Enter the number of food items ordered: '))\n",
    "for i in range(a):\n",
    "    name=input('Enter the name of food: ')\n",
    "    price=float(input('Enter the price of the item: '))\n",
    "    qty=int(input('Enter the quantity of the item: '))\n",
    "    total=price*qty\n",
    "    total_vat=(price*qty)+(price*qty)*0.13\n",
    "    s=s+ f\"{i+1},{name},{price},{qty},{total},{total_vat}\\n\"\n",
    "    t=(t+total_vat)\n",
    "    b=b+total\n",
    "print(s)\n",
    "print(\"Total amount: \",b)\n",
    "print(\"Total amount with VAT(13%): \",t)\n",
    "\n",
    "file=open('new_data.csv','w')\n",
    "file.write(s)\n",
    "file.close()\n",
    "\n",
    "    "
   ]
  },
  {
   "cell_type": "code",
   "execution_count": null,
   "id": "7f258118",
   "metadata": {},
   "outputs": [],
   "source": [
    "pwd\n"
   ]
  },
  {
   "cell_type": "code",
   "execution_count": 1,
   "id": "ef18d126",
   "metadata": {},
   "outputs": [],
   "source": [
    "file=open('new_data.csv','w')\n",
    "\n",
    "file.write('sn,name,price,qty,total,total with vat \\n')\n",
    "file.close()\n"
   ]
  },
  {
   "cell_type": "code",
   "execution_count": 2,
   "id": "42aecce0",
   "metadata": {},
   "outputs": [
    {
     "name": "stdout",
     "output_type": "stream",
     "text": [
      "Enter the number of food items ordered: 2\n",
      "Enter the name of food: momo\n",
      "Enter the price of the item: 200\n",
      "Enter the quantity of the item: 2\n",
      "Enter the name of food: pizza\n",
      "Enter the price of the item: 400\n",
      "Enter the quantity of the item: 3\n",
      "1,momo,200.0,2,400.0,452.0\n",
      "2,pizza,400.0,3,1200.0,1356.0\n",
      "\n",
      "Total amount:  1600.0\n",
      "Total amount with VAT(13%):  1808.0\n"
     ]
    }
   ],
   "source": [
    "#bill\n",
    "t=0\n",
    "b=0\n",
    "s=\"\"\n",
    "a=int(input('Enter the number of food items ordered: '))\n",
    "for i in range(a):\n",
    "    name=input('Enter the name of food: ')\n",
    "    price=float(input('Enter the price of the item: '))\n",
    "    qty=int(input('Enter the quantity of the item: '))\n",
    "    total=price*qty\n",
    "    total_vat=(price*qty)+(price*qty)*0.13\n",
    "    s=s+ f\"{i+1},{name},{price},{qty},{total},{total_vat}\\n\"\n",
    "    t=(t+total_vat)\n",
    "    b=b+total\n",
    "print(s)\n",
    "print(\"Total amount: \",b)\n",
    "print(\"Total amount with VAT(13%): \",t)\n",
    "\n",
    "file=open('new_data.csv','a')\n",
    "file.write(s)\n",
    "file.close()\n",
    "\n",
    "    "
   ]
  },
  {
   "cell_type": "code",
   "execution_count": 4,
   "id": "ec0f3d65",
   "metadata": {},
   "outputs": [
    {
     "name": "stdout",
     "output_type": "stream",
     "text": [
      "sn,name,price,qty,total,total with vat \n",
      "1,momo,200.0,2,400.0,452.0\n",
      "2,pizza,400.0,3,1200.0,1356.0\n",
      "\n"
     ]
    }
   ],
   "source": [
    "file=open('new_data.csv','r')\n",
    "print(file.read())\n",
    "file.close()\n"
   ]
  },
  {
   "cell_type": "code",
   "execution_count": null,
   "id": "1e4d648a",
   "metadata": {},
   "outputs": [],
   "source": []
  }
 ],
 "metadata": {
  "kernelspec": {
   "display_name": "Python 3 (ipykernel)",
   "language": "python",
   "name": "python3"
  },
  "language_info": {
   "codemirror_mode": {
    "name": "ipython",
    "version": 3
   },
   "file_extension": ".py",
   "mimetype": "text/x-python",
   "name": "python",
   "nbconvert_exporter": "python",
   "pygments_lexer": "ipython3",
   "version": "3.11.3"
  }
 },
 "nbformat": 4,
 "nbformat_minor": 5
}
