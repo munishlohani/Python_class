{
 "cells": [
  {
   "cell_type": "code",
   "execution_count": 2,
   "id": "682b830c",
   "metadata": {},
   "outputs": [
    {
     "name": "stdout",
     "output_type": "stream",
     "text": [
      "<class 'str'> <class 'str'>\n"
     ]
    }
   ],
   "source": [
    "a='hello world'\n",
    "b='Hello World'\n",
    "print(type(a),type(b))"
   ]
  },
  {
   "cell_type": "code",
   "execution_count": 6,
   "id": "7fc8cdd5",
   "metadata": {},
   "outputs": [
    {
     "name": "stdout",
     "output_type": "stream",
     "text": [
      "Hello world \n",
      "Hello world \n",
      "\n"
     ]
    }
   ],
   "source": [
    "a='Hello world \\n'\n",
    "print(a*2)"
   ]
  },
  {
   "cell_type": "code",
   "execution_count": 10,
   "id": "0aaf8db3",
   "metadata": {},
   "outputs": [
    {
     "name": "stdout",
     "output_type": "stream",
     "text": [
      "h\n",
      "hello\n",
      "hloWr\n"
     ]
    }
   ],
   "source": [
    "a=\"hello World\"\n",
    "print(a[0])\n",
    "print(a[0:5])\n",
    "print(a[0:10:2])"
   ]
  },
  {
   "cell_type": "code",
   "execution_count": 22,
   "id": "654765e1",
   "metadata": {},
   "outputs": [
    {
     "name": "stdout",
     "output_type": "stream",
     "text": [
      "dlroW olleH\n"
     ]
    }
   ],
   "source": [
    "a=\"Hello World\"\n",
    "\n",
    "print(a[::-1])#reverse print"
   ]
  },
  {
   "cell_type": "code",
   "execution_count": 25,
   "id": "4e205d7a",
   "metadata": {},
   "outputs": [
    {
     "name": "stdout",
     "output_type": "stream",
     "text": [
      "Hello World"
     ]
    }
   ],
   "source": [
    "a=\"Hello World\"\n",
    "l=len(a)\n",
    "for i in range(l):\n",
    "    print(a[i], end=\"\")"
   ]
  },
  {
   "cell_type": "code",
   "execution_count": 27,
   "id": "4e3f44a4",
   "metadata": {},
   "outputs": [
    {
     "name": "stdout",
     "output_type": "stream",
     "text": [
      "hello world Ram 34 I am from ktm\n"
     ]
    }
   ],
   "source": [
    "\n",
    "#Concatination\n",
    "name='Ram'\n",
    "age=34\n",
    "add='ktm'\n",
    "info= 'hello world '+name+\" \"+str(age)+\" \"+'I am from '+add\n",
    "print(info)"
   ]
  },
  {
   "cell_type": "code",
   "execution_count": 32,
   "id": "c641d1da",
   "metadata": {},
   "outputs": [
    {
     "name": "stdout",
     "output_type": "stream",
     "text": [
      "Enter name mpl\n",
      "enter age 131\n",
      "Enter address kkk\n",
      "Hello world, I am mpl. I am from kkk and I am 131 years old.\n"
     ]
    }
   ],
   "source": [
    "# String Formatting\n",
    "name=input(\"Enter name \")\n",
    "age=int(input(\"enter age \"))\n",
    "add=input(\"Enter address \")\n",
    "info=f\"Hello world, I am {name}. I am from {add} and I am {age} years old.\" # f\"\" for formatting.\n",
    "print(info)\n"
   ]
  },
  {
   "cell_type": "code",
   "execution_count": 34,
   "id": "fcabc9cf",
   "metadata": {},
   "outputs": [
    {
     "name": "stdout",
     "output_type": "stream",
     "text": [
      "Enter the number of food items ordered: 1\n",
      "Enter the name of food: momo\n",
      "Enter the price of the item: 12\n",
      "Enter the quantity of the item: 1\n",
      "1. Name of item=momo     Price of item=12.0     Quantity=1     Amount=12.0     Amount with VAT=13.56 \n",
      "\n",
      "Total amount:  12.0\n",
      "Total amount with VAT(13%):  13.56\n"
     ]
    }
   ],
   "source": [
    "#bill\n",
    "t=0\n",
    "b=0\n",
    "s=\"\"\n",
    "a=int(input('Enter the number of food items ordered: '))\n",
    "for i in range(a):\n",
    "    name=input('Enter the name of food: ')\n",
    "    price=float(input('Enter the price of the item: '))\n",
    "    qty=int(input('Enter the quantity of the item: '))\n",
    "    total=price*qty\n",
    "    total_vat=(price*qty)+(price*qty)*0.13\n",
    "    s=s+ f\"{i+1}. Name of item= {name}     Price of item= {price}     Quantity= {qty}     Amount= {total}     Amount with VAT={total_vat} \\n\"\n",
    "    t=(t+total_vat)\n",
    "    b=b+total\n",
    "print(s)\n",
    "print(\"Total amount: \",b)\n",
    "print(\"Total amount with VAT(13%): \",t)\n",
    "    "
   ]
  },
  {
   "cell_type": "code",
   "execution_count": 37,
   "id": "164a23d0",
   "metadata": {},
   "outputs": [
    {
     "name": "stdout",
     "output_type": "stream",
     "text": [
      "Enter Name ram\n",
      "There is no ram\n"
     ]
    }
   ],
   "source": [
    "#search\n",
    "a=\"Ram Shyam Hari Sita Nabin Akash Ram\"\n",
    "name=input('Enter Name ')\n",
    "if name in a:\n",
    "    print(\"yes\")\n",
    "    print(a.count(name))\n",
    "else:\n",
    "    print('There is no', name)"
   ]
  },
  {
   "cell_type": "code",
   "execution_count": 45,
   "id": "0194d31b",
   "metadata": {},
   "outputs": [
    {
     "name": "stdout",
     "output_type": "stream",
     "text": [
      "RAM SHYAM HARI SITA NABIN AKASH RAM\n",
      "ram shyam hari sita nabin akash ram\n",
      "Ram Shyam Hari Sita Nabin Akash Ram\n"
     ]
    }
   ],
   "source": [
    "a=\"Ram Shyam Hari Sita Nabin Akash Ram\"\n",
    "print(a.upper())\n",
    "print(a.lower())\n",
    "\n",
    "print(a)"
   ]
  },
  {
   "cell_type": "code",
   "execution_count": 3,
   "id": "bd4c87ca",
   "metadata": {},
   "outputs": [
    {
     "name": "stdout",
     "output_type": "stream",
     "text": [
      "Enter Name ram\n",
      "yes\n",
      "3\n"
     ]
    }
   ],
   "source": [
    "#search\n",
    "a=\"Ram Shyam Hari Sita Nabin Akash Ram Ramesh\".lower()\n",
    "name=input('Enter Name ').lower()\n",
    "\n",
    "if name in a:\n",
    "    print(\"yes\")\n",
    "    print(a.count(name))\n",
    "else:\n",
    "    print('There is no', name)"
   ]
  },
  {
   "cell_type": "code",
   "execution_count": 12,
   "id": "6b1c210f",
   "metadata": {},
   "outputs": [
    {
     "name": "stdout",
     "output_type": "stream",
     "text": [
      "ram Shyam Hari Sita Nabin Akash ram Ramesh\n"
     ]
    }
   ],
   "source": [
    "#replace\n",
    "a=\"Ram Shyam Hari Sita Nabin Akash Ram Ramesh\"\n",
    "a=a.replace(\"Ram \", \"ram \")\n",
    "print(a)"
   ]
  },
  {
   "cell_type": "code",
   "execution_count": 15,
   "id": "49f86228",
   "metadata": {},
   "outputs": [
    {
     "name": "stdout",
     "output_type": "stream",
     "text": [
      "Shyam Hari Sita Nabin Akash Ramesh\n"
     ]
    }
   ],
   "source": [
    "#remove\n",
    "a=\"Ram Shyam Hari Sita Nabin Akash Ram Ramesh\"\n",
    "a=a.replace(\"Ram \", \"\")\n",
    "print(a)"
   ]
  },
  {
   "cell_type": "code",
   "execution_count": 19,
   "id": "e56ea1fb",
   "metadata": {},
   "outputs": [
    {
     "data": {
      "text/plain": [
       "'Ram Shyam Hari Sita Nabin Akash Ram Ramesh'"
      ]
     },
     "execution_count": 19,
     "metadata": {},
     "output_type": "execute_result"
    }
   ],
   "source": [
    "# title() split()\n",
    "a=\"Ram Shyam Hari Sita Nabin Akash Ram ramesh\"\n",
    "a.title()\n"
   ]
  },
  {
   "cell_type": "code",
   "execution_count": 21,
   "id": "3e46b612",
   "metadata": {},
   "outputs": [
    {
     "data": {
      "text/plain": [
       "['Ram', 'Shyam', 'Hari', 'Sita', 'Nabin', 'Akash', 'Ram', 'ramesh']"
      ]
     },
     "execution_count": 21,
     "metadata": {},
     "output_type": "execute_result"
    }
   ],
   "source": [
    "# title() split()\n",
    "a=\"Ram Shyam Hari Sita Nabin Akash Ram ramesh\"\n",
    "a.split()\n"
   ]
  },
  {
   "cell_type": "code",
   "execution_count": 24,
   "id": "bc0b85fc",
   "metadata": {},
   "outputs": [
    {
     "name": "stdout",
     "output_type": "stream",
     "text": [
      "Hello world"
     ]
    }
   ],
   "source": [
    "a=\"Hello world\"\n",
    "l=len(a)\n",
    "i=0\n",
    "while i<l:\n",
    "    print(a[i], end=\"\")\n",
    "    i=i+1"
   ]
  },
  {
   "cell_type": "code",
   "execution_count": null,
   "id": "699f1175",
   "metadata": {},
   "outputs": [],
   "source": []
  }
 ],
 "metadata": {
  "kernelspec": {
   "display_name": "Python 3 (ipykernel)",
   "language": "python",
   "name": "python3"
  },
  "language_info": {
   "codemirror_mode": {
    "name": "ipython",
    "version": 3
   },
   "file_extension": ".py",
   "mimetype": "text/x-python",
   "name": "python",
   "nbconvert_exporter": "python",
   "pygments_lexer": "ipython3",
   "version": "3.11.3"
  }
 },
 "nbformat": 4,
 "nbformat_minor": 5
}
