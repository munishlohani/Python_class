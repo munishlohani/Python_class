{
 "cells": [
  {
   "cell_type": "code",
   "execution_count": 1,
   "id": "68daa04a",
   "metadata": {},
   "outputs": [],
   "source": [
    "#create a database\n",
    "import mysql.connector #importing database\n",
    "\n",
    "database = mysql.connector.connect(\n",
    "    host=\"localhost\",\n",
    "    user=\"root\",\n",
    "    password=\"\",\n",
    "    database=\"python-class\"\n",
    ")\n",
    "\n",
    "db = database.cursor() "
   ]
  },
  {
   "cell_type": "code",
   "execution_count": 2,
   "id": "115c4fa6",
   "metadata": {},
   "outputs": [
    {
     "name": "stdout",
     "output_type": "stream",
     "text": [
      "(1, 'Ram ', 99, 80, 67, 55, 65, 311.0, 62.2, 'C')\n",
      "(2, 'Shyam', 80, 80, 80, 80, 80, 400.0, 80.0, 'A')\n",
      "(3, 'Hari', 90, 60, 0, 50, 90, 290.0, 58.0, 'B')\n",
      "(4, 'Madam', 87, 65, 98, 78, 22, 300.0, 75.0, 'B')\n",
      "(5, 'Padam', 37, 25, 99, 48, 62, 278.0, 70.0, 'B')\n",
      "(6, 'Padma', 87, 15, 49, 48, 82, 288.0, 73.0, 'B')\n",
      "(7, 'Alex', 40, 40, 20, 40, 40, 180.0, 35.0, 'D')\n",
      "(8, 'Nabin', 40, 40, 80, 40, 40, 230.0, 50.0, 'C')\n",
      "(9, 'Rohan', 0, 0, 0, 0, 0, 0.0, 0.0, 'U')\n",
      "(10, 'Rohit', 90, 90, 90, 90, 99, 459.0, 93.0, 'A')\n",
      "(11, 'Ramesh', 88, 96, 56, 63, 55, 300.0, 75.0, 'B')\n",
      "(12, 'Buvam', 88, 96, 56, 63, 55, 300.0, 75.0, 'B')\n",
      "(13, 'Ganesh', 98, 96, 96, 83, 87, 400.0, 94.0, 'A')\n"
     ]
    }
   ],
   "source": [
    "db.execute(\"SELECT * FROM student\") #'*'= all\n",
    "result =db.fetchall()\n",
    "for x in result:\n",
    "    print(x)\n",
    "    \n"
   ]
  },
  {
   "cell_type": "code",
   "execution_count": null,
   "id": "e87550fc",
   "metadata": {},
   "outputs": [],
   "source": []
  },
  {
   "cell_type": "code",
   "execution_count": 3,
   "id": "1b9669d9",
   "metadata": {},
   "outputs": [
    {
     "name": "stdout",
     "output_type": "stream",
     "text": [
      "(1, 'Ram ', 311.0, 'C')\n",
      "(2, 'Shyam', 400.0, 'A')\n",
      "(3, 'Hari', 290.0, 'B')\n",
      "(4, 'Madam', 300.0, 'B')\n",
      "(5, 'Padam', 278.0, 'B')\n",
      "(6, 'Padma', 288.0, 'B')\n",
      "(7, 'Alex', 180.0, 'D')\n",
      "(8, 'Nabin', 230.0, 'C')\n",
      "(9, 'Rohan', 0.0, 'U')\n",
      "(10, 'Rohit', 459.0, 'A')\n",
      "(11, 'Ramesh', 300.0, 'B')\n",
      "(12, 'Buvam', 300.0, 'B')\n",
      "(13, 'Ganesh', 400.0, 'A')\n"
     ]
    }
   ],
   "source": [
    "db.execute(\"SELECT sn,name,total,grade FROM student\") #'*'= all\n",
    "result =db.fetchall()\n",
    "for x in result:\n",
    "    print(x)\n",
    "    \n",
    "    \n"
   ]
  },
  {
   "cell_type": "code",
   "execution_count": 4,
   "id": "447c0fae",
   "metadata": {},
   "outputs": [
    {
     "name": "stdout",
     "output_type": "stream",
     "text": [
      "(10, 'Rohit', 90, 90, 90, 90, 99, 459.0, 93.0, 'A')\n",
      "(13, 'Ganesh', 98, 96, 96, 83, 87, 400.0, 94.0, 'A')\n"
     ]
    }
   ],
   "source": [
    "db.execute(\"SELECT * FROM student WHERE grade='A' and percentage > 80\") #'*'= all\n",
    "result =db.fetchall()\n",
    "for x in result:\n",
    "    print(x)\n",
    "    \n"
   ]
  },
  {
   "cell_type": "code",
   "execution_count": 5,
   "id": "5723d4ab",
   "metadata": {},
   "outputs": [
    {
     "name": "stdout",
     "output_type": "stream",
     "text": [
      "(1, 'Ram ', 99, 80, 67, 55, 65, 311.0, 62.2, 'C')\n"
     ]
    }
   ],
   "source": [
    "db.execute(\"SELECT * FROM student WHERE name='Ram'\") #'*'= all\n",
    "result =db.fetchall()\n",
    "for x in result:\n",
    "    print(x)\n",
    "\n",
    "\n"
   ]
  },
  {
   "cell_type": "code",
   "execution_count": 6,
   "id": "ece40120",
   "metadata": {},
   "outputs": [],
   "source": [
    "#Insert\n",
    "sql='''INSERT INTO student ( Name,Physics,Chemistry,Mathematics,English,Nepali,Total,Percentage,Grade) VALUES ('Ramesh', 88, 96, 56, 63, 55, 300, 75, 'B')'''\n",
    "db.execute(sql)\n",
    "database.commit()\n",
    "\n"
   ]
  },
  {
   "cell_type": "code",
   "execution_count": 7,
   "id": "6827176a",
   "metadata": {},
   "outputs": [],
   "source": [
    "#Insert\n",
    "sql='''INSERT INTO student ( Name,Physics,Chemistry,Mathematics,English,Nepali,Total,Percentage,Grade) VALUES ('Ganesh', 98, 96, 96, 83, 87, 400, 94, 'A')'''\n",
    "db.execute(sql)\n",
    "database.commit()\n",
    "\n"
   ]
  },
  {
   "cell_type": "code",
   "execution_count": 14,
   "id": "c2dd9a32",
   "metadata": {},
   "outputs": [
    {
     "name": "stdout",
     "output_type": "stream",
     "text": [
      "Enter no. of data entry1\n",
      "Enter Name= rohan\n",
      "Enter marks of Math= 0\n",
      "Enter Marks of Physics= 0\n",
      "Enter Marks of Chemistry= 0\n",
      "Enter Marks of English= 0\n",
      "Enter Marks of Nepali= 0\n"
     ]
    }
   ],
   "source": [
    "#Insert\n",
    "n=int(input('Enter no. of data entry'))\n",
    "for i in range(n):\n",
    "    name=input('Enter Name= ').capitalize()\n",
    "    math=float(input('Enter marks of Math= '))\n",
    "    p=float(input('Enter Marks of Physics= '))\n",
    "    c=float(input('Enter Marks of Chemistry= '))\n",
    "    e=float(input('Enter Marks of English= '))\n",
    "    n=float(input('Enter Marks of Nepali= '))\n",
    "    total=math+p+c+e+n\n",
    "    P=((math+p+c+e+n)/500)*100\n",
    "\n",
    "    if  p>=90:\n",
    "        Grade = 'A+'\n",
    "    elif 80<=p<90:\n",
    "        Grade = 'A'\n",
    "    elif 70<=p<80:\n",
    "        Grade='B+'\n",
    "    elif 60<=p<70:\n",
    "        Grade='B'\n",
    "    elif 50<=p<60:\n",
    "        Grade='C+'\n",
    "    elif 40<=p<50:\n",
    "        Grade='C'\n",
    "    else:\n",
    "        Grade='F'\n",
    "\n",
    "    sql=f'''INSERT INTO student ( Name,Physics,Chemistry,Mathematics,English,Nepali,Total,Percentage,Grade) VALUES ('{name}', {p}, {c},{math}, {e}, {n},{total},{p}, '{Grade}')'''\n",
    "    db.execute(sql)\n",
    "database.commit()\n"
   ]
  },
  {
   "cell_type": "code",
   "execution_count": 18,
   "id": "c33eb28e",
   "metadata": {},
   "outputs": [
    {
     "name": "stdout",
     "output_type": "stream",
     "text": [
      "Enter Name= Birendra\n",
      "Enter SN= 20\n"
     ]
    }
   ],
   "source": [
    "#Updating\n",
    "name=input('Enter Name= ')\n",
    "sn=int(input('Enter SN= '))\n",
    "sql=f\"UPDATE student SET Name = '{name}' WHERE sn = {sn}\"\n",
    "db.execute(sql)\n",
    "database.commit()\n"
   ]
  },
  {
   "cell_type": "code",
   "execution_count": 19,
   "id": "b9757656",
   "metadata": {},
   "outputs": [],
   "source": [
    "#Delete\n",
    "sql = \"DELETE FROM student WHERE sn=20 \"\n",
    "db.execute(sql)\n",
    "database.commit()\n"
   ]
  },
  {
   "cell_type": "code",
   "execution_count": null,
   "id": "f512bbc3",
   "metadata": {},
   "outputs": [],
   "source": []
  }
 ],
 "metadata": {
  "kernelspec": {
   "display_name": "Python 3 (ipykernel)",
   "language": "python",
   "name": "python3"
  },
  "language_info": {
   "codemirror_mode": {
    "name": "ipython",
    "version": 3
   },
   "file_extension": ".py",
   "mimetype": "text/x-python",
   "name": "python",
   "nbconvert_exporter": "python",
   "pygments_lexer": "ipython3",
   "version": "3.11.3"
  }
 },
 "nbformat": 4,
 "nbformat_minor": 5
}
