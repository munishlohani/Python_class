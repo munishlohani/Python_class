{
 "cells": [
  {
   "cell_type": "code",
   "execution_count": 2,
   "metadata": {
    "colab": {
     "base_uri": "https://localhost:8080/"
    },
    "id": "ILo_KhedmDFz",
    "outputId": "ce1efb71-1b64-4b7d-ee03-418ae26e9172"
   },
   "outputs": [
    {
     "name": "stdout",
     "output_type": "stream",
     "text": [
      "10 hello world 10.5 True\n",
      "<class 'int'> <class 'str'> <class 'float'> <class 'bool'>\n"
     ]
    }
   ],
   "source": [
    "a=10 #pre-defined Variable\n",
    "b='hello world'\n",
    "c=10.5\n",
    "d= True\n",
    "print(a, b, c, d )\n",
    "print(type(a),type(b),type(c),type(d))"
   ]
  },
  {
   "cell_type": "code",
   "execution_count": 3,
   "metadata": {
    "colab": {
     "base_uri": "https://localhost:8080/"
    },
    "id": "4kSVlBcFsc0W",
    "outputId": "9bec7942-1c03-40ae-9281-7fe05bf26588"
   },
   "outputs": [
    {
     "name": "stdout",
     "output_type": "stream",
     "text": [
      "hello world\n"
     ]
    }
   ],
   "source": [
    "hello_world='hello world'\n",
    "print(hello_world)"
   ]
  },
  {
   "cell_type": "code",
   "execution_count": 4,
   "metadata": {
    "colab": {
     "base_uri": "https://localhost:8080/"
    },
    "id": "6qzPq_9mtNss",
    "outputId": "14b9eae8-bcf5-4829-f836-f7ddf9b95f3b"
   },
   "outputs": [
    {
     "name": "stdout",
     "output_type": "stream",
     "text": [
      "40 14 58.5 144 5 12 0.9230769230769231\n"
     ]
    }
   ],
   "source": [
    "#operators- + - ** // / * / %\n",
    "a=12\n",
    "b=13\n",
    "c=15\n",
    "d=a+b+c\n",
    "e=a-b+c\n",
    "f=a*b*c/d\n",
    "g=a**2\n",
    "i=a%b\n",
    "h=(a+b+c+d)//e\n",
    "k=a/b\n",
    "\n",
    "print(d,e,f,g,h,i,k)\n"
   ]
  },
  {
   "cell_type": "code",
   "execution_count": 5,
   "metadata": {
    "colab": {
     "base_uri": "https://localhost:8080/"
    },
    "id": "kWmMwNdZvTzM",
    "outputId": "595ac016-099c-411c-a067-be7aa1e95844"
   },
   "outputs": [
    {
     "name": "stdout",
     "output_type": "stream",
     "text": [
      "hello world\n"
     ]
    }
   ],
   "source": [
    "a='hello '\n",
    "b='world'\n",
    "c=a+b\n",
    "print(c)\n",
    "\n"
   ]
  },
  {
   "cell_type": "code",
   "execution_count": 7,
   "metadata": {
    "colab": {
     "base_uri": "https://localhost:8080/"
    },
    "id": "XjIDnAkmvZXS",
    "outputId": "fa2d4d90-77c1-4ecc-a63b-5024bdc51abb"
   },
   "outputs": [
    {
     "name": "stdout",
     "output_type": "stream",
     "text": [
      "hello world hello world hello world \n",
      "<class 'str'>\n"
     ]
    }
   ],
   "source": [
    "a='hello world '\n",
    "print(a*3)\n",
    "print(type(a))"
   ]
  },
  {
   "cell_type": "code",
   "execution_count": 9,
   "metadata": {},
   "outputs": [
    {
     "name": "stdout",
     "output_type": "stream",
     "text": [
      "1\n"
     ]
    }
   ],
   "source": [
    "a= True\n",
    "b= False\n",
    "c=a+b\n",
    "print(c)"
   ]
  },
  {
   "cell_type": "code",
   "execution_count": 10,
   "metadata": {},
   "outputs": [
    {
     "name": "stdout",
     "output_type": "stream",
     "text": [
      "0\n"
     ]
    }
   ],
   "source": [
    "a= True\n",
    "b= False\n",
    "c=a*b\n",
    "print(c)"
   ]
  },
  {
   "cell_type": "code",
   "execution_count": 11,
   "metadata": {},
   "outputs": [
    {
     "name": "stdout",
     "output_type": "stream",
     "text": [
      "enter a number10\n",
      "10\n"
     ]
    }
   ],
   "source": [
    "#User Defined Variable\n",
    "#default=string\n",
    "a=int(input(\"enter a number=\"))\n",
    "print(a)\n"
   ]
  },
  {
   "cell_type": "code",
   "execution_count": 12,
   "metadata": {},
   "outputs": [
    {
     "name": "stdout",
     "output_type": "stream",
     "text": [
      "Enter a value10\n",
      "Enter a value20\n",
      "30\n"
     ]
    }
   ],
   "source": [
    "a=int(input('Enter a value')) #this is called type Casting\n",
    "b=int(input('Enter a value'))\n",
    "c=a+b\n",
    "print(c)\n",
    "\n"
   ]
  },
  {
   "cell_type": "code",
   "execution_count": 13,
   "metadata": {},
   "outputs": [],
   "source": [
    "# int()\n",
    "# float()\n",
    "#default is string"
   ]
  },
  {
   "cell_type": "code",
   "execution_count": 16,
   "metadata": {},
   "outputs": [
    {
     "name": "stdout",
     "output_type": "stream",
     "text": [
      "Enter principle= 1033\n",
      "Enter time= 22\n",
      "Enter rate= 1.5\n",
      "The Value of I= 340.89\n"
     ]
    }
   ],
   "source": [
    "p=float(input('Enter principle= '))\n",
    "t=float(input('Enter time= '))\n",
    "r=float(input('Enter rate= '))\n",
    "I =(p*t*r)/100\n",
    "print(\"The Value of I=\", I)"
   ]
  },
  {
   "cell_type": "code",
   "execution_count": 31,
   "metadata": {},
   "outputs": [
    {
     "name": "stdout",
     "output_type": "stream",
     "text": [
      "Enter marks of Math100\n",
      "Enter Marks of Physics=100\n",
      "Enter Marks of Chemistry=100\n",
      "total marks=  300.0\n",
      "Percentage= 100.0\n"
     ]
    }
   ],
   "source": [
    "math=float(input('Enter marks of Math'))\n",
    "p=float(input('Enter Marks of Physics='))\n",
    "c=float(input('Enter Marks of Chemistry='))\n",
    "total=math+p+c\n",
    "P=((math+p+c)/300)*100\n",
    "print(\"total marks= \", total)\n",
    "print(\"Percentage=\",P )"
   ]
  },
  {
   "cell_type": "code",
   "execution_count": null,
   "metadata": {},
   "outputs": [],
   "source": [
    "#int->str"
   ]
  },
  {
   "cell_type": "code",
   "execution_count": 28,
   "metadata": {},
   "outputs": [
    {
     "name": "stdout",
     "output_type": "stream",
     "text": [
      "10 10.0\n"
     ]
    }
   ],
   "source": [
    "a=10\n",
    "b=str(a)\n",
    "c=float(a)\n",
    "print(b,c)"
   ]
  },
  {
   "cell_type": "code",
   "execution_count": 30,
   "metadata": {},
   "outputs": [
    {
     "name": "stdout",
     "output_type": "stream",
     "text": [
      "10\n"
     ]
    }
   ],
   "source": [
    "a=\"10\"\n",
    "b=int(a)\n",
    "print(b)"
   ]
  },
  {
   "cell_type": "code",
   "execution_count": 33,
   "metadata": {},
   "outputs": [
    {
     "name": "stdout",
     "output_type": "stream",
     "text": [
      "False\n"
     ]
    }
   ],
   "source": [
    "a=0\n",
    "b=bool(a)\n",
    "print(b)"
   ]
  },
  {
   "cell_type": "code",
   "execution_count": 34,
   "metadata": {},
   "outputs": [
    {
     "name": "stdout",
     "output_type": "stream",
     "text": [
      "True\n"
     ]
    }
   ],
   "source": [
    "a=1\n",
    "b=bool(a)\n",
    "print(b)"
   ]
  },
  {
   "cell_type": "code",
   "execution_count": 35,
   "metadata": {},
   "outputs": [
    {
     "name": "stdout",
     "output_type": "stream",
     "text": [
      "False\n"
     ]
    }
   ],
   "source": [
    "a=\"\"      #null->False\n",
    "b=bool(a)\n",
    "print(b)"
   ]
  },
  {
   "cell_type": "code",
   "execution_count": 36,
   "metadata": {},
   "outputs": [
    {
     "name": "stdout",
     "output_type": "stream",
     "text": [
      "True\n"
     ]
    }
   ],
   "source": [
    "a=\"0\"\n",
    "b=bool(a)\n",
    "print(b)\n"
   ]
  },
  {
   "cell_type": "code",
   "execution_count": 40,
   "metadata": {},
   "outputs": [
    {
     "name": "stdout",
     "output_type": "stream",
     "text": [
      "Enter your name= MPL\n",
      "Enter your address=ktm\n",
      "Enter your age=2222\n",
      "Hello, I amMPL.I am fromktm.I am 2222years old.\n"
     ]
    }
   ],
   "source": [
    "name=input('Enter your name= ')\n",
    "add=input('Enter your address=')\n",
    "age= int(input('Enter your age='))\n",
    "info= 'Hello, I am '+name+'.'+ \" I am from \"+add+'.'+ \" I am \"+str(age)+\"years old.\"\n",
    "print(info)"
   ]
  },
  {
   "cell_type": "code",
   "execution_count": 1,
   "metadata": {},
   "outputs": [],
   "source": [
    "#07/17\n"
   ]
  },
  {
   "cell_type": "code",
   "execution_count": null,
   "metadata": {},
   "outputs": [],
   "source": []
  }
 ],
 "metadata": {
  "colab": {
   "provenance": []
  },
  "kernelspec": {
   "display_name": "Python 3 (ipykernel)",
   "language": "python",
   "name": "python3"
  },
  "language_info": {
   "codemirror_mode": {
    "name": "ipython",
    "version": 3
   },
   "file_extension": ".py",
   "mimetype": "text/x-python",
   "name": "python",
   "nbconvert_exporter": "python",
   "pygments_lexer": "ipython3",
   "version": "3.11.3"
  }
 },
 "nbformat": 4,
 "nbformat_minor": 1
}
