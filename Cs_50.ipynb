{
 "cells": [
  {
   "cell_type": "code",
   "execution_count": 11,
   "id": "ef310880",
   "metadata": {},
   "outputs": [
    {
     "name": "stdout",
     "output_type": "stream",
     "text": [
      "Total cost=50 cent\n",
      "Enter coins= 3\n",
      "Change accepted: 25,10,5\n",
      "Enter coins= 25\n",
      "Due amount=  25\n",
      "Enter coins= 10\n",
      "Due amount=  15\n",
      "Enter coins= 5\n",
      "Due amount=  10\n",
      "Enter coins= 5\n",
      "Due amount=  5\n",
      "Enter coins= 5\n",
      "Due amount=  0\n"
     ]
    }
   ],
   "source": [
    "#coke change\n",
    "total=50\n",
    "print(\"Total cost=50 cent\")\n",
    "while total>0:\n",
    "    a=int(input('Enter coins= '))\n",
    "    if a==25 or a==10 or a==5:\n",
    "        total=total-a\n",
    "        print(\"Due amount= \",total)\n",
    "    else:\n",
    "        print(\"Change accepted: 25,10,5\")\n",
    "        \n",
    "      \n",
    "        \n",
    "\n",
    "\n",
    "    \n"
   ]
  },
  {
   "cell_type": "code",
   "execution_count": null,
   "id": "06b85606",
   "metadata": {},
   "outputs": [],
   "source": []
  }
 ],
 "metadata": {
  "kernelspec": {
   "display_name": "Python 3 (ipykernel)",
   "language": "python",
   "name": "python3"
  },
  "language_info": {
   "codemirror_mode": {
    "name": "ipython",
    "version": 3
   },
   "file_extension": ".py",
   "mimetype": "text/x-python",
   "name": "python",
   "nbconvert_exporter": "python",
   "pygments_lexer": "ipython3",
   "version": "3.11.3"
  }
 },
 "nbformat": 4,
 "nbformat_minor": 5
}
