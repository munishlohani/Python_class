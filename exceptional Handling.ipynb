{
 "cells": [
  {
   "cell_type": "code",
   "execution_count": null,
   "id": "21276731",
   "metadata": {},
   "outputs": [],
   "source": [
    "try:\n",
    "    <operation>\n",
    "except:  #to avoid error\n",
    "    <operation>"
   ]
  },
  {
   "cell_type": "code",
   "execution_count": 2,
   "id": "d400d647",
   "metadata": {},
   "outputs": [
    {
     "name": "stdout",
     "output_type": "stream",
     "text": [
      "Enter age= 10\n"
     ]
    }
   ],
   "source": [
    "try:\n",
    "    age=int(input('Enter age= '))\n",
    "except:\n",
    "    print('The age should be int')"
   ]
  },
  {
   "cell_type": "code",
   "execution_count": 4,
   "id": "4e5d9d2c",
   "metadata": {},
   "outputs": [
    {
     "name": "stdout",
     "output_type": "stream",
     "text": [
      "Enter a= 1\n",
      "Enter b= 3\n",
      "0.3333333333333333\n"
     ]
    }
   ],
   "source": [
    "try:\n",
    "    a=int(input('Enter a= '))\n",
    "    b=int(input('Enter b= '))\n",
    "    c=a/b\n",
    "    print(c)\n",
    "except:\n",
    "    print('There is some error')\n",
    "    "
   ]
  },
  {
   "cell_type": "code",
   "execution_count": 8,
   "id": "b16e0197",
   "metadata": {},
   "outputs": [
    {
     "name": "stdout",
     "output_type": "stream",
     "text": [
      "Enter a= ten\n",
      "a,b should be int\n"
     ]
    }
   ],
   "source": [
    "try:\n",
    "    a=int(input('Enter a= '))\n",
    "    b=int(input('Enter b= '))\n",
    "    c=a/b\n",
    "    print(c)\n",
    "except ValueError:\n",
    "    \n",
    "    print('a,b should be int')\n",
    "\n",
    "except ZeroDivisionError:\n",
    "    print('b should not be 0')\n",
    "    "
   ]
  },
  {
   "cell_type": "code",
   "execution_count": 11,
   "id": "0ebeec67",
   "metadata": {},
   "outputs": [
    {
     "name": "stdout",
     "output_type": "stream",
     "text": [
      "Enter username admin\n",
      "Enter password admin\n"
     ]
    }
   ],
   "source": [
    "username='admin'\n",
    "password='admin'\n",
    "try:\n",
    "    user1=input('Enter username ')\n",
    "    pass1=input('Enter password ')\n",
    "    assert username==user1 and password==pass1\n",
    "    print('You are logged in')\n",
    "except:\n",
    "    print('The username or password does not exist')"
   ]
  },
  {
   "cell_type": "code",
   "execution_count": 12,
   "id": "022a82e5",
   "metadata": {},
   "outputs": [
    {
     "name": "stdout",
     "output_type": "stream",
     "text": [
      "Enter username mpl\n",
      "Enter password mpl\n",
      "Invalid username/password\n",
      "Enter username admin\n",
      "Enter password admin\n",
      "You are logged in\n"
     ]
    }
   ],
   "source": [
    "def log():\n",
    "    username='admin'\n",
    "    password='admin'\n",
    "    try:\n",
    "        user1=input('Enter username ')\n",
    "        pass1=input('Enter password ')\n",
    "        assert username==user1 and password==pass1\n",
    "        print('You are logged in')\n",
    "    except:\n",
    "        print('Invalid username/password')\n",
    "        log()\n",
    "log()"
   ]
  },
  {
   "cell_type": "code",
   "execution_count": 25,
   "id": "a2f909a7",
   "metadata": {},
   "outputs": [
    {
     "name": "stdout",
     "output_type": "stream",
     "text": [
      "Enter username mpl\n",
      "Enter password mpl\n",
      "Invalid username/password\n",
      "Enter username admin\n",
      "Enter password admin\n",
      "You are logged on attempt no 2\n"
     ]
    }
   ],
   "source": [
    "c=1\n",
    "def log():\n",
    "    global c\n",
    "    username='admin'\n",
    "    password='admin'\n",
    "    \n",
    "    try:\n",
    "       \n",
    "        user1=input('Enter username ')\n",
    "        pass1=input('Enter password ')\n",
    "        assert username==user1 and password==pass1\n",
    "        \n",
    "        print(f\"You are logged on attempt no {c}\")\n",
    "    except:\n",
    "        print('Invalid username/password')\n",
    "        c=c+1\n",
    "        log()\n",
    "        \n",
    "log()"
   ]
  },
  {
   "cell_type": "code",
   "execution_count": 26,
   "id": "21ab5393",
   "metadata": {},
   "outputs": [
    {
     "name": "stdout",
     "output_type": "stream",
     "text": [
      "Enter username mpl\n",
      "Enter password mpl\n",
      "The username or password does not exist\n"
     ]
    }
   ],
   "source": [
    "username='admin'\n",
    "password='admin'\n",
    "try:\n",
    "    user1=input('Enter username ')\n",
    "    pass1=input('Enter password ')\n",
    "    assert username==user1 and password==pass1\n",
    "    \n",
    "except:\n",
    "    print('The username or password does not exist')\n",
    "\n",
    "else:\n",
    "    print('You are logged in')"
   ]
  },
  {
   "cell_type": "code",
   "execution_count": null,
   "id": "0cfacbb9",
   "metadata": {},
   "outputs": [],
   "source": []
  }
 ],
 "metadata": {
  "kernelspec": {
   "display_name": "Python 3 (ipykernel)",
   "language": "python",
   "name": "python3"
  },
  "language_info": {
   "codemirror_mode": {
    "name": "ipython",
    "version": 3
   },
   "file_extension": ".py",
   "mimetype": "text/x-python",
   "name": "python",
   "nbconvert_exporter": "python",
   "pygments_lexer": "ipython3",
   "version": "3.11.3"
  }
 },
 "nbformat": 4,
 "nbformat_minor": 5
}
