{
 "cells": [
  {
   "cell_type": "code",
   "execution_count": 1,
   "id": "10262a4f",
   "metadata": {},
   "outputs": [],
   "source": [
    "# loops:\n",
    "#     for loop\n",
    "#     while loop"
   ]
  },
  {
   "cell_type": "code",
   "execution_count": null,
   "id": "ef663f1d",
   "metadata": {},
   "outputs": [],
   "source": [
    "#for loop\n",
    "range(5)-0,1,2,3,4\n",
    "range(1,5)-1,2,3,4\n",
    "range(1,10,2)-1,3,5,7,9"
   ]
  },
  {
   "cell_type": "code",
   "execution_count": 6,
   "id": "3c71f996",
   "metadata": {},
   "outputs": [
    {
     "name": "stdout",
     "output_type": "stream",
     "text": [
      "1 Hello world\n",
      "2 Hello world\n",
      "3 Hello world\n",
      "4 Hello world\n"
     ]
    }
   ],
   "source": [
    "#for\n",
    "for i in range(1,5):\n",
    "    print(i,'Hello world')"
   ]
  },
  {
   "cell_type": "code",
   "execution_count": 7,
   "id": "78a7647e",
   "metadata": {},
   "outputs": [
    {
     "name": "stdout",
     "output_type": "stream",
     "text": [
      "0 Hello world\n",
      "1 Hello world\n",
      "2 Hello world\n",
      "3 Hello world\n",
      "4 Hello world\n"
     ]
    }
   ],
   "source": [
    "#for\n",
    "for i in range(5):\n",
    "    print(i,'Hello world')"
   ]
  },
  {
   "cell_type": "code",
   "execution_count": 10,
   "id": "a20a5378",
   "metadata": {},
   "outputs": [
    {
     "name": "stdout",
     "output_type": "stream",
     "text": [
      "the value of i=  1\n",
      "the value of i=  3\n",
      "the value of i=  5\n",
      "the value of i=  7\n",
      "the value of i=  9\n"
     ]
    }
   ],
   "source": [
    "for i in range(1,10,2):\n",
    "    print('the value of i= ', i)"
   ]
  },
  {
   "cell_type": "code",
   "execution_count": 21,
   "id": "ce428707",
   "metadata": {},
   "outputs": [
    {
     "name": "stdout",
     "output_type": "stream",
     "text": [
      "Enter the value of n= 5\n",
      "5 * 1 = 5\n",
      "5 * 2 = 10\n",
      "5 * 3 = 15\n",
      "5 * 4 = 20\n",
      "5 * 5 = 25\n",
      "5 * 6 = 30\n",
      "5 * 7 = 35\n",
      "5 * 8 = 40\n",
      "5 * 9 = 45\n",
      "5 * 10 = 50\n"
     ]
    }
   ],
   "source": [
    "n=int(input('Enter the value of n= '))\n",
    "for i in range(1,11):\n",
    "    print(n,\"*\",i,\"=\", n*i)\n",
    "    \n"
   ]
  },
  {
   "cell_type": "code",
   "execution_count": 24,
   "id": "70dcc73c",
   "metadata": {},
   "outputs": [
    {
     "name": "stdout",
     "output_type": "stream",
     "text": [
      "Enter a num 10\n",
      "0\n",
      "1\n",
      "2\n",
      "3\n",
      "4\n",
      "5\n",
      "6\n",
      "7\n",
      "8\n",
      "9\n"
     ]
    }
   ],
   "source": [
    "n=int(input('Enter a num '))\n",
    "for i in range(n):\n",
    "    print(i)\n",
    "    "
   ]
  },
  {
   "cell_type": "code",
   "execution_count": 27,
   "id": "3c69ce96",
   "metadata": {},
   "outputs": [
    {
     "name": "stdout",
     "output_type": "stream",
     "text": [
      "Enter n= 5\n",
      "enter x=1\n",
      "enter x=2\n",
      "enter x=3\n",
      "enter x=4\n",
      "enter x=5\n",
      "15\n"
     ]
    }
   ],
   "source": [
    "s=0\n",
    "n=int(input('Enter n= '))\n",
    "for i in range(n):\n",
    "    x=int(input('enter x='))\n",
    "    s=s+x\n",
    "print(s)"
   ]
  },
  {
   "cell_type": "code",
   "execution_count": 38,
   "id": "573c8f34",
   "metadata": {},
   "outputs": [
    {
     "name": "stdout",
     "output_type": "stream",
     "text": [
      "Enter n= 5\n",
      "enter x=a\n",
      "enter x=b\n",
      "enter x=c\n",
      "enter x=d\n",
      "enter x=\n",
      "a b c d  \n"
     ]
    }
   ],
   "source": [
    "s=\"\"\n",
    "\n",
    "n=int(input('Enter n= '))\n",
    "for i in range(n):\n",
    "    x=(input('enter x='))\n",
    "    s= s + x + \" \"\n",
    "print(s)"
   ]
  },
  {
   "cell_type": "code",
   "execution_count": 39,
   "id": "f3ea2414",
   "metadata": {},
   "outputs": [
    {
     "name": "stdout",
     "output_type": "stream",
     "text": [
      "Enter n= 3\n",
      "enter x=a\n",
      "enter x=b\n",
      "enter x=c\n",
      "a\n",
      "b\n",
      "c\n",
      "\n"
     ]
    }
   ],
   "source": [
    "s=\"\"\n",
    "\n",
    "n=int(input('Enter n= '))\n",
    "for i in range(n):\n",
    "    x=(input('enter x='))\n",
    "    s= s + x + \"\\n\"\n",
    "print(s)"
   ]
  },
  {
   "cell_type": "code",
   "execution_count": 50,
   "id": "bf01bb0c",
   "metadata": {},
   "outputs": [
    {
     "name": "stdout",
     "output_type": "stream",
     "text": [
      "enter the no. of users2\n",
      "enter namempl\n",
      "enter addressktm\n",
      "enter nameram\n",
      "enter addressktm\n",
      "Name= mpl     Address= ktm\n",
      "Name= ram     Address= ktm\n",
      "\n"
     ]
    }
   ],
   "source": [
    "s=\"\"\n",
    "n=int(input('enter the no. of users '))\n",
    "for i in range(n):\n",
    "    a=input('enter name= ')\n",
    "    b=input('enter address= ')\n",
    "    s=s+\"Name= \"+a+\"     \"+\"Address= \"+b+'\\n'\n",
    "print(s)"
   ]
  },
  {
   "cell_type": "code",
   "execution_count": 54,
   "id": "46a36b58",
   "metadata": {},
   "outputs": [
    {
     "name": "stdout",
     "output_type": "stream",
     "text": [
      "Enter n5\n",
      "1\n",
      "2\n",
      "6\n",
      "24\n",
      "120\n"
     ]
    }
   ],
   "source": [
    "fac=1\n",
    "n=int(input('Enter n'))\n",
    "for i in range(1,n+1):\n",
    "    fac=fac*i\n",
    "    \n",
    "    print(fac)\n",
    "        "
   ]
  },
  {
   "cell_type": "code",
   "execution_count": null,
   "id": "87798511",
   "metadata": {},
   "outputs": [],
   "source": [
    "#WAP to create a billing system\n",
    "    -name\n",
    "    -price\n",
    "    -quantity\n",
    "    -total\n",
    "    -grand_total\n"
   ]
  },
  {
   "cell_type": "code",
   "execution_count": 7,
   "id": "2afb4c79",
   "metadata": {},
   "outputs": [
    {
     "name": "stdout",
     "output_type": "stream",
     "text": [
      "Enter the number of food items ordered: 2\n",
      "Enter the name of food: momo\n",
      "Enter the price of the item: 100\n",
      "Enter the quantity of the item: 2\n",
      "Enter the name of food: pizza\n",
      "Enter the price of the item: 300\n",
      "Enter the quantity of the item: 5\n",
      "1. the name of food: momo     the price of the item: 100.0     the quantity of the item: 2     Amount: 200.0\n",
      "2. the name of food: pizza     the price of the item: 300.0     the quantity of the item: 5     Amount: 1500.0\n",
      "\n",
      "Total amount:  1700.0\n",
      "Total amount with VAT(13%):  1921.0\n"
     ]
    }
   ],
   "source": [
    "t=0\n",
    "b=0\n",
    "s=\"\"\n",
    "a=int(input('Enter the number of food items ordered: '))\n",
    "for i in range(a):\n",
    "    name=input('Enter the name of food: ')\n",
    "    price=float(input('Enter the price of the item: '))\n",
    "    qty=int(input('Enter the quantity of the item: '))\n",
    "    total=price*qty\n",
    "    total_vat=(price*qty)+(price*qty)*0.13\n",
    "    s=s+str(i+1)+\". \"+\"the name of food: \"+name+\"     \"+\"the price of the item: \"+str(price)+\"     \"+\"the quantity of the item: \"+str(qty)+\"     \"+\"Amount: \"+str(total)+\"\\n\"\n",
    "    t=(t+total_vat)\n",
    "    b=b+total\n",
    "print(s)\n",
    "print(\"Total amount: \",b)\n",
    "print(\"Total amount with VAT(13%): \",t)\n",
    "    "
   ]
  },
  {
   "cell_type": "code",
   "execution_count": null,
   "id": "7fade892",
   "metadata": {},
   "outputs": [],
   "source": [
    "#for loop for string"
   ]
  },
  {
   "cell_type": "code",
   "execution_count": 9,
   "id": "a9de0794",
   "metadata": {},
   "outputs": [
    {
     "name": "stdout",
     "output_type": "stream",
     "text": [
      "A hello world\n",
      "p hello world\n",
      "p hello world\n",
      "l hello world\n",
      "e hello world\n"
     ]
    }
   ],
   "source": [
    "a=\"Apple\"\n",
    "for i in a:\n",
    "    print(i,\"hello world\")"
   ]
  },
  {
   "cell_type": "code",
   "execution_count": 13,
   "id": "30d9fff2",
   "metadata": {},
   "outputs": [
    {
     "name": "stdout",
     "output_type": "stream",
     "text": [
      "H e l l o   w o r l d .   I   a m   P y t h o n . "
     ]
    }
   ],
   "source": [
    "a=\"Hello world. I am Python.\"\n",
    "for i in a:\n",
    "    print(i,end=\" \")\n",
    "    "
   ]
  },
  {
   "cell_type": "code",
   "execution_count": 17,
   "id": "c2ed2da4",
   "metadata": {},
   "outputs": [
    {
     "name": "stdout",
     "output_type": "stream",
     "text": [
      "Hello world I am Python"
     ]
    }
   ],
   "source": [
    "a=\"Hello world. I am Python.\"\n",
    "for i in a:\n",
    "    if i!=\".\":\n",
    "        print(i,end=\"\")\n",
    "    "
   ]
  },
  {
   "cell_type": "code",
   "execution_count": 19,
   "id": "dd39c60d",
   "metadata": {},
   "outputs": [
    {
     "name": "stdout",
     "output_type": "stream",
     "text": [
      "Hello world I am Python"
     ]
    }
   ],
   "source": [
    "a=\"Hello world. I am Python.\"\n",
    "for i in a:\n",
    "    if i!=\".\":\n",
    "        print(i,end=\"\")"
   ]
  },
  {
   "cell_type": "code",
   "execution_count": 78,
   "id": "b9fef0bd",
   "metadata": {},
   "outputs": [],
   "source": [
    "# #control Statement\n",
    "#     -continue\n",
    "#     -break\n",
    "#     -pass"
   ]
  },
  {
   "cell_type": "code",
   "execution_count": 27,
   "id": "f64983c3",
   "metadata": {},
   "outputs": [
    {
     "name": "stdout",
     "output_type": "stream",
     "text": [
      "0\n",
      "1\n",
      "2\n",
      "3\n",
      "4\n"
     ]
    }
   ],
   "source": [
    "for i in range(10):\n",
    "    if i==5:\n",
    "        break\n",
    "             \n",
    "    else:\n",
    "        print(i)"
   ]
  },
  {
   "cell_type": "code",
   "execution_count": 29,
   "id": "2c5ec1ad",
   "metadata": {},
   "outputs": [
    {
     "name": "stdout",
     "output_type": "stream",
     "text": [
      "Hello world I am Python"
     ]
    }
   ],
   "source": [
    "a=\"Hello world. I am Python.\"\n",
    "for i in a:\n",
    "    if i==\".\":\n",
    "        continue\n",
    "    print(i, end=\"\")"
   ]
  },
  {
   "cell_type": "code",
   "execution_count": 36,
   "id": "589b6c5e",
   "metadata": {},
   "outputs": [
    {
     "name": "stdout",
     "output_type": "stream",
     "text": [
      "0 1 2 3 4 6 7 8 9 "
     ]
    }
   ],
   "source": [
    "for i in range(10):\n",
    "    if i==5:\n",
    "        continue\n",
    "       \n",
    "             \n",
    "    else:\n",
    "        print(i, end=\" \")"
   ]
  },
  {
   "cell_type": "code",
   "execution_count": 62,
   "id": "9ae609e7",
   "metadata": {},
   "outputs": [
    {
     "name": "stdout",
     "output_type": "stream",
     "text": [
      "Enter a number 11\n",
      "the number is prime\n"
     ]
    }
   ],
   "source": [
    "#WAP to detect if the given number is prime or composite\n",
    "s=0\n",
    "a=int(input('Enter a number '))\n",
    "for i in range(1,a+1):\n",
    "    if a%i==0:\n",
    "        s=s+1\n",
    "if s<=2:\n",
    "    print('the number is prime')\n",
    "    \n",
    "else:\n",
    "    print('the number is composite')\n",
    "    \n",
    "\n",
    "    "
   ]
  },
  {
   "cell_type": "code",
   "execution_count": 77,
   "id": "13d35fca",
   "metadata": {},
   "outputs": [
    {
     "name": "stdout",
     "output_type": "stream",
     "text": [
      "Enter a no= 111\n",
      "The no is composite\n"
     ]
    }
   ],
   "source": [
    "#for-else loop\n",
    "n=int(input('Enter a no= '))\n",
    "for i in range(2, n):\n",
    "    if n>2:\n",
    "        if n%i==0:\n",
    "            print(\"The no is composite\")\n",
    "            break\n",
    "    else:\n",
    "        print('the number is prime')\n",
    "else:\n",
    "    print(\"the number is prime\")"
   ]
  },
  {
   "cell_type": "code",
   "execution_count": 1,
   "id": "4f67c7c8",
   "metadata": {},
   "outputs": [
    {
     "name": "stdout",
     "output_type": "stream",
     "text": [
      "Enter a no= 2\n"
     ]
    }
   ],
   "source": [
    "n=int(input('Enter a no= '))\n",
    "for i in range(2, n):\n",
    "    print (i)\n",
    "    "
   ]
  },
  {
   "cell_type": "code",
   "execution_count": null,
   "id": "397dc80e",
   "metadata": {},
   "outputs": [],
   "source": []
  }
 ],
 "metadata": {
  "kernelspec": {
   "display_name": "Python 3 (ipykernel)",
   "language": "python",
   "name": "python3"
  },
  "language_info": {
   "codemirror_mode": {
    "name": "ipython",
    "version": 3
   },
   "file_extension": ".py",
   "mimetype": "text/x-python",
   "name": "python",
   "nbconvert_exporter": "python",
   "pygments_lexer": "ipython3",
   "version": "3.11.3"
  }
 },
 "nbformat": 4,
 "nbformat_minor": 5
}
