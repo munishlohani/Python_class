{
 "cells": [
  {
   "cell_type": "markdown",
   "id": "a3afbeb2",
   "metadata": {},
   "source": [
    "# Object Oriented Programming"
   ]
  },
  {
   "cell_type": "code",
   "execution_count": 1,
   "id": "fb61bc12",
   "metadata": {},
   "outputs": [],
   "source": [
    "# -> Makes codes reusable"
   ]
  },
  {
   "cell_type": "code",
   "execution_count": 2,
   "id": "9150911b",
   "metadata": {},
   "outputs": [],
   "source": [
    "# -Inheritance\n",
    "# -Encapsulation\n",
    "# -Polymorphosim"
   ]
  },
  {
   "cell_type": "code",
   "execution_count": 3,
   "id": "cb6f6a8b",
   "metadata": {},
   "outputs": [],
   "source": [
    "#  class:\n",
    "# A class is a blueprint for the object\n",
    "\n",
    "# class Python:  #Class has capitalization\n",
    "#     pass\n"
   ]
  },
  {
   "cell_type": "code",
   "execution_count": 4,
   "id": "5fa72e3d",
   "metadata": {},
   "outputs": [
    {
     "ename": "NameError",
     "evalue": "name 'Python' is not defined",
     "output_type": "error",
     "traceback": [
      "\u001b[1;31m---------------------------------------------------------------------------\u001b[0m",
      "\u001b[1;31mNameError\u001b[0m                                 Traceback (most recent call last)",
      "Cell \u001b[1;32mIn[4], line 2\u001b[0m\n\u001b[0;32m      1\u001b[0m \u001b[38;5;66;03m# object(instance):It is an initiation of a class\u001b[39;00m\n\u001b[1;32m----> 2\u001b[0m obj\u001b[38;5;241m=\u001b[39mPython()\n",
      "\u001b[1;31mNameError\u001b[0m: name 'Python' is not defined"
     ]
    }
   ],
   "source": [
    "# object(instance):It is an initiation of a class\n",
    "obj=Python()\n"
   ]
  },
  {
   "cell_type": "code",
   "execution_count": null,
   "id": "b1617bb6",
   "metadata": {},
   "outputs": [],
   "source": [
    "# class Hello():\n",
    "#     <methods>\n",
    "#     <methods>\n",
    "    \n",
    "# obj= hello()\n",
    "# obj.<methods>\n",
    "# obj.<methods>"
   ]
  },
  {
   "cell_type": "code",
   "execution_count": null,
   "id": "45578e50",
   "metadata": {},
   "outputs": [],
   "source": [
    "class Hello:   #class\n",
    "    def hello(): #method\n",
    "        print('Hello World')\n",
    "        \n",
    "        \n",
    "obj=Hello()   #object\n",
    "obj.hello()   #Initializing the class"
   ]
  },
  {
   "cell_type": "code",
   "execution_count": null,
   "id": "d2824647",
   "metadata": {},
   "outputs": [],
   "source": [
    "class Hello:   #class\n",
    "    def hello(self): #method \n",
    "        print('Hello World')\n",
    "        \n",
    "        \n",
    "obj=Hello()   #object\n",
    "obj.hello()   #Initializing the class"
   ]
  },
  {
   "cell_type": "code",
   "execution_count": null,
   "id": "efabe34d",
   "metadata": {},
   "outputs": [],
   "source": [
    "class Hello:   #class\n",
    "    @staticmethod #decorator \n",
    "    def hello(): #method \n",
    "      \n",
    "        print('Hello World')\n",
    "        \n",
    "\n",
    "        \n",
    "obj=Hello()   #object\n",
    "obj.hello()   #Initializing the class"
   ]
  },
  {
   "cell_type": "code",
   "execution_count": null,
   "id": "7ce10c91",
   "metadata": {},
   "outputs": [],
   "source": [
    "# static method\n",
    "class Area:\n",
    "    @staticmethod\n",
    "    def area(l,b):\n",
    "        a=l*b\n",
    "        print(a)\n",
    "    \n",
    "obj=Area()\n",
    "obj.area(10,5)"
   ]
  },
  {
   "cell_type": "code",
   "execution_count": null,
   "id": "5496d0f2",
   "metadata": {},
   "outputs": [],
   "source": [
    "# static method\n",
    "class Cal:\n",
    "    @staticmethod\n",
    "    def area(l,b):\n",
    "        a=l*b\n",
    "        print(a)\n",
    "        \n",
    "    @staticmethod    \n",
    "    def vol(l,b,h):\n",
    "        v=l*b*h\n",
    "        print(v)\n",
    "    \n",
    "    \n",
    "obj=Cal()\n",
    "obj.area(10,5)\n",
    "obj.vol(10,20,30)"
   ]
  },
  {
   "cell_type": "code",
   "execution_count": null,
   "id": "7a9c6da4",
   "metadata": {},
   "outputs": [],
   "source": [
    "#self Method\n",
    "class Cal:\n",
    "    def __init__(self,l,b,h):    #'self' is instance\n",
    "    #reinitialization\n",
    "        self.length=l\n",
    "        self.breadth=b\n",
    "        self.height=h\n",
    "        \n",
    "    \n",
    "    def area(self):\n",
    "        a=self.length * self.breadth\n",
    "        print(a)\n",
    "    def vol(self):\n",
    "        v=self.length * self.breadth* self.height\n",
    "        print(v)\n",
    "        \n",
    "obj=Cal(10,5,2) #Init holds the values\n",
    "obj.area()\n",
    "obj.vol()\n",
    "\n",
    "\n",
    "\n",
    "    "
   ]
  },
  {
   "cell_type": "code",
   "execution_count": null,
   "id": "d2e07830",
   "metadata": {
    "scrolled": true
   },
   "outputs": [],
   "source": [
    "class Info:\n",
    "    def __init__(self,name,age,add):\n",
    "        self.name=name\n",
    "        self.age=age\n",
    "        self.add=add\n",
    "        \n",
    "    def info(self):\n",
    "        print(f\"Hello World. I am {self.name}. I am from {self.add}  and I am {self.age} years old.\")\n",
    "        \n",
    "        \n",
    "name=input('Enter name= ').capitalize()\n",
    "a=int(input('Enter age= '))\n",
    "add=input('Enter address').capitalize()\n",
    "obj=Info(name,a,add)\n",
    "obj.info()\n",
    "            \n",
    "    "
   ]
  },
  {
   "cell_type": "code",
   "execution_count": null,
   "id": "e5876254",
   "metadata": {},
   "outputs": [],
   "source": [
    "#Inheritance\n",
    "class A:\n",
    "    pass\n",
    "class B(A):\n",
    "    pass\n",
    "obj=B()\n"
   ]
  },
  {
   "cell_type": "code",
   "execution_count": null,
   "id": "9c53ba71",
   "metadata": {},
   "outputs": [],
   "source": [
    "class Data:          #Parent class\n",
    "    def __init__(self):\n",
    "        self.name='Ram'\n",
    "        self.age=13\n",
    "        self.add='kathmandu'\n",
    "    \n",
    "    def data(self):\n",
    "        print(self.name,self.age,self.add)\n",
    "        \n",
    "class Info(Data):       #Child Class\n",
    "    def info(self):\n",
    "        print(f\"Hello world, I am {self.name}. I am {self.age} year old and I am from {self.add}\" )\n",
    "\n",
    "obj=Info()\n",
    "obj.info()\n",
    "    "
   ]
  },
  {
   "cell_type": "code",
   "execution_count": null,
   "id": "3ccf2c38",
   "metadata": {
    "scrolled": true
   },
   "outputs": [],
   "source": [
    "class Data:          #Parent class\n",
    "    def __init__(self,name,age,add):\n",
    "        self.name=name\n",
    "        self.age=age\n",
    "        self.add=add\n",
    "    \n",
    "    def data(self):\n",
    "        print(self.name,self.age,self.add)\n",
    "        \n",
    "class Info(Data):       #Child Class\n",
    "    def info(self):\n",
    "        print(f\"Hello world, I am {self.name}. I am {self.age} year old and I am from {self.add}\" )\n",
    "\n",
    "        \n",
    "name=input('Enter name= ').capitalize()\n",
    "age=int(input('Enter age= '))\n",
    "add=input('Enter address= ').capitalize()\n",
    "\n",
    "obj=Info(name,age,add)\n",
    "obj.info()\n",
    "obj.data()\n",
    "\n",
    "    "
   ]
  },
  {
   "cell_type": "code",
   "execution_count": null,
   "id": "9d7f6629",
   "metadata": {},
   "outputs": [],
   "source": [
    "class Data:          #Parent class\n",
    "    def __init__(self,name,age,add):\n",
    "        self.name=name\n",
    "        self.age=age\n",
    "        self.add=add\n",
    "    \n",
    "    \n",
    "        \n",
    "        \n",
    "class Info(Data):       #Child Class\n",
    "    def __init__(self,name,age,add,phone):\n",
    "        self.phone=phone\n",
    "        Data.__init__(self,name,age,add)\n",
    "        \n",
    "    def info(self):\n",
    "        print(f\"Hello world, I am {self.name}. I am {self.age} year old and I am from {self.add}. My phone number is {self.phone}\" )\n",
    "\n",
    "        \n",
    "name=input('Enter name= ').capitalize()\n",
    "age=int(input('Enter age= '))\n",
    "add=input('Enter address= ').capitalize()\n",
    "phone=int(input('Enter phone'))\n",
    "obj=Info(name,age,add,phone)\n",
    "obj.info()\n",
    "\n",
    "\n",
    "    "
   ]
  },
  {
   "cell_type": "code",
   "execution_count": null,
   "id": "b5ceb182",
   "metadata": {},
   "outputs": [],
   "source": [
    "#Multi-level Inheritance\n",
    "class A:\n",
    "    pass\n",
    "class B(A):\n",
    "    pass\n",
    "class C(B):\n",
    "    pass\n",
    "obj=C()\n",
    "\n",
    "\n",
    "    "
   ]
  },
  {
   "cell_type": "code",
   "execution_count": null,
   "id": "a7197388",
   "metadata": {},
   "outputs": [],
   "source": [
    "# Multiple Inheritance\n",
    "class A:\n",
    "    pass\n",
    "\n",
    "class B:\n",
    "    pass\n",
    "\n",
    "class C(A,B):\n",
    "    pass\n",
    "\n",
    "obj=C()"
   ]
  },
  {
   "cell_type": "code",
   "execution_count": null,
   "id": "b6a7987a",
   "metadata": {},
   "outputs": [],
   "source": [
    "class Add:\n",
    "    def __init__(self,add):\n",
    "        self.add=add\n",
    "        def address(self):\n",
    "            print(f'Hello World. I am from {self.add}')\n",
    "\n",
    "class Data:          #Parent class\n",
    "    def __init__(self,name,age,add):\n",
    "        self.name=name\n",
    "        self.age=age\n",
    "        Add.__init__(self,add)\n",
    "    \n",
    "        \n",
    "        \n",
    "class Info(Data):       #Child Class\n",
    "    def __init__(self,name,age,add,phone):\n",
    "        self.phone=phone\n",
    "        Data.__init__(self,name,age,add)\n",
    "        \n",
    "    def info(self):\n",
    "        print(f\"Hello world, I am {self.name}. I am {self.age} year old and I am from {self.add}. My phone number is {self.phone}\" )\n",
    "\n",
    "\n",
    "obj=Info('Ram',13,'Ktm','1234567890')\n",
    "obj.info()\n",
    "\n",
    "\n",
    "\n",
    "    "
   ]
  },
  {
   "cell_type": "code",
   "execution_count": null,
   "id": "2826593b",
   "metadata": {},
   "outputs": [],
   "source": [
    "# Private Public and Protected members"
   ]
  },
  {
   "cell_type": "code",
   "execution_count": null,
   "id": "58ec8b62",
   "metadata": {},
   "outputs": [],
   "source": [
    "# public members\n",
    "class Info:\n",
    "    def __init__(self):\n",
    "            self.name='Ram'\n",
    "            self.age=14\n",
    "            self.add='Kathmandu'\n",
    "    \n",
    "    def info(self):\n",
    "        print(f\"Hello World. My name is {self.name}, from {self.add}. I am {self.age} years old\")\n",
    "\n",
    "obj=Info()\n",
    "obj.info()\n",
    "print(obj.name,obj.add,obj.age) # Can be accessed from anywhere\n"
   ]
  },
  {
   "cell_type": "code",
   "execution_count": null,
   "id": "79513459",
   "metadata": {},
   "outputs": [],
   "source": [
    "#Protected\n",
    "\n",
    "class Info:\n",
    "    def __init__(self):\n",
    "            self._name='Ram'   # _ for protected attribute\n",
    "            self._age=14\n",
    "            self._add='Kathmandu'\n",
    "    \n",
    "    def info(self):\n",
    "        print(f\"Hello World. My name is {self._name}, from {self._add}. I am {self._age} years old\")\n",
    "\n",
    "obj=Info()\n",
    "obj.info()"
   ]
  },
  {
   "cell_type": "code",
   "execution_count": null,
   "id": "6ec9a3f7",
   "metadata": {},
   "outputs": [],
   "source": [
    "#Private members\n",
    "class Info:\n",
    "    def __init__(self):\n",
    "            self.__name='Ram'   # __ for private attribute\n",
    "            self.__age=14\n",
    "            self.__add='Kathmandu'\n",
    "    \n",
    "    def info(self):\n",
    "        print(f\"Hello World. My name is {self.__name}, from {self.__add}. I am {self.__age} years old\")\n",
    "\n",
    "obj=Info()\n",
    "obj.info()\n",
    "print(obj.__name)"
   ]
  },
  {
   "cell_type": "code",
   "execution_count": null,
   "id": "c3a95023",
   "metadata": {},
   "outputs": [],
   "source": [
    "#Private members\n",
    "class Data:\n",
    "    def __init__(self):\n",
    "        self.name='Ram'\n",
    "        self._age=24\n",
    "        self.__add='Kathmandu'\n",
    "    def data(self):\n",
    "        print(self.name,self._age,self.__add)\n",
    "\n",
    "class Info(Data):\n",
    "    def info(self):\n",
    "        print(f\"Hello world, I am {self.name}, {self._age} \")# self.__add cannot be used.\n",
    "        \n",
    "    \n",
    "obj=Info()\n",
    "obj.info()"
   ]
  },
  {
   "cell_type": "code",
   "execution_count": null,
   "id": "c7966a55",
   "metadata": {},
   "outputs": [],
   "source": [
    "# To access private\n",
    "class Data:\n",
    "    def __init__(self):\n",
    "        self.name='Ram'\n",
    "        self._age=24\n",
    "        self.__add='Kathmandu'\n",
    "    def data(self):\n",
    "        print(self.name,self._age,self.__add)\n",
    "\n",
    "class Info(Data):\n",
    "    def info(self):\n",
    "        print(f\"Hello world, I am {self.name}, {self._age} \")# self.__add cannot be used.\n",
    "        \n",
    "    def my_data(self):\n",
    "        Data.data(self)\n",
    "        \n",
    "obj=Info()\n",
    "obj.info()\n",
    "obj.my_data()"
   ]
  },
  {
   "cell_type": "code",
   "execution_count": null,
   "id": "d6229d92",
   "metadata": {},
   "outputs": [],
   "source": [
    "# Super Method\n",
    "class Data:\n",
    "    def __init__(self):\n",
    "        self.name='Ram'\n",
    "        self._age=24\n",
    "        self.__add='Kathmandu'\n",
    "    def data(self):\n",
    "        print(self.name,self._age,self.__add)\n",
    "\n",
    "class Info(Data):\n",
    "    def info(self):\n",
    "        print(f\"Hello world, I am {self.name}, {self._age} \")# self.__add cannot be used.\n",
    "        \n",
    "    def my_data(self):\n",
    "#         Data.data(self)\n",
    "        super().data()\n",
    "        \n",
    "obj=Info()\n",
    "obj.info()\n",
    "obj.my_data()"
   ]
  },
  {
   "cell_type": "code",
   "execution_count": null,
   "id": "fd60dd22",
   "metadata": {},
   "outputs": [],
   "source": [
    "# to access Private members\n",
    "class Data:\n",
    "    def __init__(self):\n",
    "        self.name='Ram'\n",
    "        self._age=24\n",
    "        self.__add='Kathmandu'\n",
    "    def data(self):\n",
    "        print(self.name,self._age,self.__add)\n",
    "\n",
    "class Info(Data):\n",
    "    def info(self):\n",
    "        print(f\"Hello world, I am {self.name}, {self._age} \")# self.__add cannot be used.\n",
    "            \n",
    "            \n",
    "obj=Info()\n",
    "obj.info()\n",
    "print(obj.name,obj._age,obj._Data__add)"
   ]
  },
  {
   "cell_type": "code",
   "execution_count": null,
   "id": "b254a2f8",
   "metadata": {},
   "outputs": [],
   "source": [
    "# To access Private\n",
    "class Data:\n",
    "    def __init__(self):\n",
    "        self.name='Ram'\n",
    "        self._age=24\n",
    "        self.__add='Kathmandu'\n",
    "    def data(self):\n",
    "        print(self.name,self._age,self.__add)\n",
    "\n",
    "class Info(Data):\n",
    "    def info(self):\n",
    "        print(f\"Hello world, I am {self.name}, {self._age}, {self._Data__add} \")# self.__add cannot be used.\n",
    "        \n",
    "    def my_data(self):\n",
    "#         Data.data(self)\n",
    "        super().data()\n",
    "        \n",
    "obj=Info()\n",
    "obj.info()\n",
    "obj.my_data()"
   ]
  },
  {
   "cell_type": "code",
   "execution_count": null,
   "id": "1793941f",
   "metadata": {},
   "outputs": [],
   "source": [
    "#   __str__ method"
   ]
  },
  {
   "cell_type": "code",
   "execution_count": 7,
   "id": "c4aee14a",
   "metadata": {},
   "outputs": [
    {
     "name": "stdout",
     "output_type": "stream",
     "text": [
      "Ram\n",
      "<class '__main__.Data'>\n",
      "Hello World I am Ram, 23, from Kathmandu.\n"
     ]
    }
   ],
   "source": [
    "class Data:\n",
    "    def __init__(self):\n",
    "        self.name='Ram'\n",
    "        self.age=23\n",
    "        self.add=\"Kathmandu\"\n",
    "    \n",
    "    def __str__(self):\n",
    "        return self.name\n",
    "        \n",
    "    def info(self):\n",
    "        print(f\"Hello World I am {self.name}, {self.age}, from {self.add}.\")\n",
    "        \n",
    "obj=Data()\n",
    "print(obj)\n",
    "print(type(obj))\n",
    "obj.info()\n",
    "\n"
   ]
  },
  {
   "cell_type": "code",
   "execution_count": 9,
   "id": "cf4b9f9a",
   "metadata": {},
   "outputs": [
    {
     "ename": "TypeError",
     "evalue": "unsupported operand type(s) for +: 'Data' and 'Data'",
     "output_type": "error",
     "traceback": [
      "\u001b[1;31m---------------------------------------------------------------------------\u001b[0m",
      "\u001b[1;31mTypeError\u001b[0m                                 Traceback (most recent call last)",
      "Cell \u001b[1;32mIn[9], line 14\u001b[0m\n\u001b[0;32m     11\u001b[0m         \u001b[38;5;28mprint\u001b[39m(\u001b[38;5;124mf\u001b[39m\u001b[38;5;124m\"\u001b[39m\u001b[38;5;124mHello World I am \u001b[39m\u001b[38;5;132;01m{\u001b[39;00m\u001b[38;5;28mself\u001b[39m\u001b[38;5;241m.\u001b[39mname\u001b[38;5;132;01m}\u001b[39;00m\u001b[38;5;124m, \u001b[39m\u001b[38;5;132;01m{\u001b[39;00m\u001b[38;5;28mself\u001b[39m\u001b[38;5;241m.\u001b[39mage\u001b[38;5;132;01m}\u001b[39;00m\u001b[38;5;124m, from \u001b[39m\u001b[38;5;132;01m{\u001b[39;00m\u001b[38;5;28mself\u001b[39m\u001b[38;5;241m.\u001b[39madd\u001b[38;5;132;01m}\u001b[39;00m\u001b[38;5;124m.\u001b[39m\u001b[38;5;124m\"\u001b[39m)\n\u001b[0;32m     13\u001b[0m obj\u001b[38;5;241m=\u001b[39mData()\n\u001b[1;32m---> 14\u001b[0m \u001b[38;5;28mprint\u001b[39m(obj\u001b[38;5;241m+\u001b[39mobj)\n\u001b[0;32m     15\u001b[0m \u001b[38;5;28mprint\u001b[39m(\u001b[38;5;28mtype\u001b[39m(obj))\n\u001b[0;32m     16\u001b[0m obj\u001b[38;5;241m.\u001b[39minfo()\n",
      "\u001b[1;31mTypeError\u001b[0m: unsupported operand type(s) for +: 'Data' and 'Data'"
     ]
    }
   ],
   "source": [
    "class Data:\n",
    "    def __init__(self):\n",
    "        self.name='Ram'\n",
    "        self.age=23\n",
    "        self.add=\"Kathmandu\"\n",
    "    \n",
    "    def __str__(self):     #Returns only string  \n",
    "        return self.name\n",
    "        \n",
    "    def info(self):\n",
    "        print(f\"Hello World I am {self.name}, {self.age}, from {self.add}.\")\n",
    "        \n",
    "obj=Data()\n",
    "print(obj+obj) #obj-obj cannot be added\n",
    "print(type(obj)) #only string can be returned\n",
    "obj.info()\n",
    "\n"
   ]
  },
  {
   "cell_type": "code",
   "execution_count": null,
   "id": "58cc6698",
   "metadata": {},
   "outputs": [],
   "source": []
  }
 ],
 "metadata": {
  "kernelspec": {
   "display_name": "Python 3 (ipykernel)",
   "language": "python",
   "name": "python3"
  },
  "language_info": {
   "codemirror_mode": {
    "name": "ipython",
    "version": 3
   },
   "file_extension": ".py",
   "mimetype": "text/x-python",
   "name": "python",
   "nbconvert_exporter": "python",
   "pygments_lexer": "ipython3",
   "version": "3.11.3"
  }
 },
 "nbformat": 4,
 "nbformat_minor": 5
}
