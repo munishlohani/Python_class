{
 "cells": [
  {
   "cell_type": "code",
   "execution_count": null,
   "id": "2c5cb137",
   "metadata": {},
   "outputs": [],
   "source": [
    "#logical Operator\n",
    "and & (multiplication)\n",
    "\n",
    "or| (Addition of result)\n",
    "not ^"
   ]
  },
  {
   "cell_type": "code",
   "execution_count": 2,
   "id": "d9a701fe",
   "metadata": {},
   "outputs": [
    {
     "name": "stdout",
     "output_type": "stream",
     "text": [
      "True\n",
      "False\n",
      "True\n",
      "False\n"
     ]
    }
   ],
   "source": [
    "#and\n",
    "print (False and True)\n",
    "print(True and False)\n",
    "print(True and True)\n",
    "print(False and False)"
   ]
  },
  {
   "cell_type": "code",
   "execution_count": 4,
   "id": "4c97a02e",
   "metadata": {},
   "outputs": [
    {
     "name": "stdout",
     "output_type": "stream",
     "text": [
      "True\n",
      "True\n",
      "True\n",
      "False\n"
     ]
    }
   ],
   "source": [
    "#or\n",
    "print (False or True)\n",
    "print(True or False)\n",
    "print(True or True)\n",
    "print(False or False)"
   ]
  },
  {
   "cell_type": "code",
   "execution_count": 13,
   "id": "6a3d9616",
   "metadata": {},
   "outputs": [
    {
     "name": "stdout",
     "output_type": "stream",
     "text": [
      "enter a number-2.1\n",
      "Number is not positive\n"
     ]
    }
   ],
   "source": [
    "#number should be positive and even\n",
    "a=float(input('enter a number' ))\n",
    "if a>0 and a%2==0:\n",
    "    print('Number is positive and even')\n",
    "elif a==0:\n",
    "    print('Number is Zero')\n",
    "elif a>0 and a%2!=0:\n",
    "    print('a is odd but greater than zero ')\n",
    "elif a<0 and a%2==0:\n",
    "    print('The number is less than 0 but even')\n",
    "else:\n",
    "    print('Number is negative')"
   ]
  },
  {
   "cell_type": "code",
   "execution_count": 14,
   "id": "cfc5c758",
   "metadata": {},
   "outputs": [],
   "source": [
    "# #Nested If-Else Statement\n",
    "# if <condition>:\n",
    "#     if <condition>:\n",
    "#         <operation>\n",
    "#     else:\n",
    "#         <operation>\n",
    "# else:\n",
    "#     if <condition>:\n",
    "#         <operation>\n",
    "#     else:\n",
    "#         <operation>\n"
   ]
  },
  {
   "cell_type": "code",
   "execution_count": 22,
   "id": "bac95f4a",
   "metadata": {},
   "outputs": [
    {
     "name": "stdout",
     "output_type": "stream",
     "text": [
      "Enter a= 1\n",
      "Enter b= 2\n",
      " SELECT add, sub, multipy, divide\n",
      "Enter your operation= divide\n",
      "Result =  0.5\n",
      "your operation= divide\n"
     ]
    }
   ],
   "source": [
    "a=int(input('Enter a= '))\n",
    "b=int(input('Enter b= '))\n",
    "print(' SELECT add, sub, multipy, divide')\n",
    "o=input('Enter your operation= ')\n",
    "if o==\"add\":\n",
    "    s=a+b\n",
    "    print('Result = ', s)\n",
    "elif o==\"sub\":\n",
    "    s=a-b\n",
    "    print('Result = ', s)\n",
    "elif o==\"multiply\":\n",
    "    s=a*b\n",
    "    print('Result = ', s)\n",
    "elif o==\"divide\":\n",
    "    if b!=0:\n",
    "        s=a/b\n",
    "        print('Result = ', s)\n",
    "    else:\n",
    "        print('b cannot be zero')\n",
    "else:\n",
    "    print('invalid')\n",
    "print('your operation=', o)\n",
    "\n"
   ]
  },
  {
   "cell_type": "code",
   "execution_count": 28,
   "id": "73a9f01c",
   "metadata": {},
   "outputs": [
    {
     "name": "stdout",
     "output_type": "stream",
     "text": [
      "Enter a= 1\n",
      "Enter b= 0\n",
      " SELECT add, sub, multipy, divide\n",
      "Enter your operation= divide\n",
      "b cannot be zero\n",
      "your operation= divide\n"
     ]
    }
   ],
   "source": [
    "a=int(input('Enter a= '))\n",
    "b=int(input('Enter b= '))\n",
    "print(' SELECT add, sub, multipy, divide')\n",
    "o=input('Enter your operation= ')\n",
    "print('your operation=', o)\n",
    "if o==\"add\":\n",
    "    s=a+b\n",
    "    print('Result = ', s)\n",
    "elif o==\"sub\":\n",
    "    s=a-b\n",
    "    print('Result = ', s)\n",
    "elif o==\"multiply\":\n",
    "    s=a*b\n",
    "    print('Result = ', s)\n",
    "elif o==\"divide\" and b!=0:\n",
    "        s=a/b\n",
    "        print('Result = ', s)\n",
    "elif o==\"divide\" and b==0:\n",
    "    print('b cannot be zero')\n",
    "else:\n",
    "    print('invalid')\n",
    "\n",
    "\n"
   ]
  },
  {
   "cell_type": "code",
   "execution_count": 38,
   "id": "48284395",
   "metadata": {},
   "outputs": [
    {
     "name": "stdout",
     "output_type": "stream",
     "text": [
      "enter a number 1\n",
      "The number is positive and odd\n",
      "the number is zero\n"
     ]
    }
   ],
   "source": [
    "#number should be positive and even\n",
    "a=float(input('enter a number ' ))\n",
    "if a>0:\n",
    "    if a%2==0:\n",
    "        print('The number is positive and even')\n",
    "    elif a%2!=0:\n",
    "        print('The number is positive and odd')\n",
    "elif a==0:\n",
    "    print('The number is zero')\n",
    "if a<0:\n",
    "    if a%2==0:\n",
    "        print('The number is negative and even')\n",
    "    elif a%2!=0:\n",
    "        print('The number is negative and odd')"
   ]
  },
  {
   "cell_type": "code",
   "execution_count": null,
   "id": "c526919c",
   "metadata": {},
   "outputs": [],
   "source": []
  }
 ],
 "metadata": {
  "kernelspec": {
   "display_name": "Python 3 (ipykernel)",
   "language": "python",
   "name": "python3"
  },
  "language_info": {
   "codemirror_mode": {
    "name": "ipython",
    "version": 3
   },
   "file_extension": ".py",
   "mimetype": "text/x-python",
   "name": "python",
   "nbconvert_exporter": "python",
   "pygments_lexer": "ipython3",
   "version": "3.11.3"
  }
 },
 "nbformat": 4,
 "nbformat_minor": 5
}
