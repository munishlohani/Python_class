{
 "cells": [
  {
   "cell_type": "code",
   "execution_count": null,
   "id": "e6072b28",
   "metadata": {},
   "outputs": [],
   "source": [
    "while <condition>:\n",
    "    <operation>"
   ]
  },
  {
   "cell_type": "code",
   "execution_count": null,
   "id": "037d8044",
   "metadata": {},
   "outputs": [],
   "source": [
    "while True:\n",
    "    print('hello world')"
   ]
  },
  {
   "cell_type": "code",
   "execution_count": 2,
   "id": "9fc4cd1a",
   "metadata": {},
   "outputs": [
    {
     "name": "stdout",
     "output_type": "stream",
     "text": [
      "0 hello world\n",
      "1 hello world\n",
      "2 hello world\n",
      "3 hello world\n",
      "4 hello world\n"
     ]
    }
   ],
   "source": [
    "a=0\n",
    "while a<5:\n",
    "    print(a,'hello world')\n",
    "    a=a+1\n",
    "    "
   ]
  },
  {
   "cell_type": "code",
   "execution_count": 6,
   "id": "d741074e",
   "metadata": {},
   "outputs": [
    {
     "name": "stdout",
     "output_type": "stream",
     "text": [
      "5 hello world\n",
      "4 hello world\n",
      "3 hello world\n",
      "2 hello world\n",
      "1 hello world\n",
      "0 hello world\n"
     ]
    }
   ],
   "source": [
    "a=5\n",
    "while a>=0:\n",
    "    print(a,'hello world')\n",
    "    a=a-1\n",
    "    "
   ]
  },
  {
   "cell_type": "code",
   "execution_count": 8,
   "id": "a97941cf",
   "metadata": {},
   "outputs": [
    {
     "name": "stdout",
     "output_type": "stream",
     "text": [
      "enter a number3\n",
      "3 * 1 = 3\n",
      "3 * 2 = 6\n",
      "3 * 3 = 9\n",
      "3 * 4 = 12\n",
      "3 * 5 = 15\n",
      "3 * 6 = 18\n",
      "3 * 7 = 21\n",
      "3 * 8 = 24\n",
      "3 * 9 = 27\n",
      "3 * 10 = 30\n"
     ]
    }
   ],
   "source": [
    "\n",
    "i=1\n",
    "a=int(input('enter a number'))\n",
    "while i<=10:\n",
    "    print(a,\"*\",i,\"=\",a*i)\n",
    "    i=i+1\n",
    "    "
   ]
  },
  {
   "cell_type": "code",
   "execution_count": 10,
   "id": "46730857",
   "metadata": {},
   "outputs": [
    {
     "name": "stdout",
     "output_type": "stream",
     "text": [
      "enter a number5\n",
      "enter x= 4\n",
      "enter x= 1\n",
      "enter x= 2\n",
      "enter x= 3\n",
      "enter x= 4\n",
      "14\n"
     ]
    }
   ],
   "source": [
    "s=0\n",
    "i=0\n",
    "a=int(input('enter a number'))\n",
    "while i<a:\n",
    "    x=int(input('enter x= '))\n",
    "    s=s+x\n",
    "    i=i+1\n",
    "print(s)"
   ]
  },
  {
   "cell_type": "code",
   "execution_count": 2,
   "id": "fe1f383f",
   "metadata": {},
   "outputs": [
    {
     "name": "stdout",
     "output_type": "stream",
     "text": [
      "Enter a number5\n",
      "120\n"
     ]
    }
   ],
   "source": [
    "n=int(input('Enter a number'))\n",
    "i=1\n",
    "fac=1\n",
    "while i<=n:\n",
    "    fac=fac*i\n",
    "    i=i+1\n",
    "print(fac)\n",
    "    \n",
    "    "
   ]
  },
  {
   "cell_type": "code",
   "execution_count": 1,
   "id": "4ededd5e",
   "metadata": {},
   "outputs": [
    {
     "name": "stdout",
     "output_type": "stream",
     "text": [
      "Enter the no of items2\n",
      "Enter the name momo\n",
      "enter price 200\n",
      "enter qty 3\n",
      "Enter the name pizza\n",
      "enter price 123\n",
      "enter qty 2\n",
      "momo 200 3 600\n",
      "pizza 123 2 246\n",
      "\n",
      "846\n"
     ]
    }
   ],
   "source": [
    "bill=\"\"\n",
    "total=0\n",
    "t=0\n",
    "i=0\n",
    "n=int(input('Enter the no of items'))\n",
    "while i<n:\n",
    "    x=input('Enter the name ')\n",
    "    y=int(input('enter price '))\n",
    "    z=int(input('enter qty '))\n",
    "    total=y*z\n",
    "    t=t+total\n",
    "    bill=bill+x+\" \"+str(y)+\" \"+str(z)+\" \"+str(total)+\"\\n\"\n",
    "    i=i+1\n",
    "print(bill)\n",
    "print(t)\n",
    "    \n"
   ]
  },
  {
   "cell_type": "code",
   "execution_count": 7,
   "id": "0de23a13",
   "metadata": {},
   "outputs": [],
   "source": [
    "#control Statement for while loop"
   ]
  },
  {
   "cell_type": "code",
   "execution_count": 1,
   "id": "82bc9f69",
   "metadata": {},
   "outputs": [
    {
     "name": "stdout",
     "output_type": "stream",
     "text": [
      "0 1 2 3 4 6 7 8 9 "
     ]
    }
   ],
   "source": [
    "#break\n",
    "i=0\n",
    "while i<10:\n",
    "    if i==5:\n",
    "        i=i+1\n",
    "        continue\n",
    "    \n",
    "    print(i, end=\" \")\n",
    "    i=i+1"
   ]
  },
  {
   "cell_type": "code",
   "execution_count": null,
   "id": "c9c6903c",
   "metadata": {},
   "outputs": [],
   "source": [
    "n=int(input('Enter a num= '))\n",
    "i=2\n",
    "if n==1:\n",
    "        print('not possible')\n",
    "        \n",
    "else:\n",
    "           \n",
    "    while i<n:\n",
    "\n",
    "        a=n%i\n",
    "\n",
    "        if a==0:\n",
    "            print(\"composite\")\n",
    "            break\n",
    "        i=i+1   \n",
    "    else:\n",
    "        print('prime')\n",
    "\n"
   ]
  },
  {
   "cell_type": "code",
   "execution_count": 1,
   "id": "8e3c6c14",
   "metadata": {},
   "outputs": [
    {
     "name": "stdout",
     "output_type": "stream",
     "text": [
      "0 0\n",
      "0 1\n",
      "1 0\n",
      "1 1\n"
     ]
    }
   ],
   "source": [
    "#nested loop\n",
    "for i in range(2):\n",
    "    for j in range(2):\n",
    "        print(i,j)\n",
    "    #the inside loop is faster than the outer one i.e it runs for all its value before the second is changed."
   ]
  },
  {
   "cell_type": "code",
   "execution_count": 17,
   "id": "6c5a1b62",
   "metadata": {},
   "outputs": [
    {
     "name": "stdout",
     "output_type": "stream",
     "text": [
      "\n",
      "*\n",
      "**\n",
      "***\n",
      "****\n"
     ]
    }
   ],
   "source": [
    "for i in range(5):\n",
    "    print(i*\"*\")"
   ]
  },
  {
   "cell_type": "code",
   "execution_count": 20,
   "id": "97791ce5",
   "metadata": {},
   "outputs": [
    {
     "name": "stdout",
     "output_type": "stream",
     "text": [
      "      \n",
      "     o\n",
      "    ooo\n",
      "   ooooo\n",
      "  ooooooo\n"
     ]
    }
   ],
   "source": [
    "c=5\n",
    "for i in range(5):\n",
    "    print(c*\" \",(2*i-1)*\"o\")\n",
    "    c=c-1"
   ]
  },
  {
   "cell_type": "code",
   "execution_count": null,
   "id": "067bf6fb",
   "metadata": {},
   "outputs": [],
   "source": []
  }
 ],
 "metadata": {
  "kernelspec": {
   "display_name": "Python 3 (ipykernel)",
   "language": "python",
   "name": "python3"
  },
  "language_info": {
   "codemirror_mode": {
    "name": "ipython",
    "version": 3
   },
   "file_extension": ".py",
   "mimetype": "text/x-python",
   "name": "python",
   "nbconvert_exporter": "python",
   "pygments_lexer": "ipython3",
   "version": "3.11.3"
  }
 },
 "nbformat": 4,
 "nbformat_minor": 5
}
