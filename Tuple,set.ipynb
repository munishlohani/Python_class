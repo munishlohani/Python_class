{
 "cells": [
  {
   "cell_type": "code",
   "execution_count": null,
   "id": "c8c391b8",
   "metadata": {},
   "outputs": [],
   "source": [
    "# #Tuple\n",
    "# -Indexing\n",
    "# -Ordered\n",
    "# -Multiple and duplicate data\n",
    "# -imutable"
   ]
  },
  {
   "cell_type": "code",
   "execution_count": 13,
   "id": "7173e70b",
   "metadata": {},
   "outputs": [
    {
     "name": "stdout",
     "output_type": "stream",
     "text": [
      "<class 'tuple'> (1, 2, 3)\n"
     ]
    }
   ],
   "source": [
    "a=(1,2,3)\n",
    "print(type(a),a)\n",
    "\n",
    "\n"
   ]
  },
  {
   "cell_type": "code",
   "execution_count": 9,
   "id": "d9a170cc",
   "metadata": {},
   "outputs": [
    {
     "name": "stdout",
     "output_type": "stream",
     "text": [
      "Apple\n",
      "('Apple', 'Ball', 'Cat')\n",
      "('Apple', 'Cat')\n",
      "('Dog', 'Cat', 'Ball', 'Apple')\n"
     ]
    }
   ],
   "source": [
    "a=(\"Apple\",\"Ball\",\"Cat\",\"Dog\")\n",
    "print(a[0])\n",
    "print(a[0:3])\n",
    "print(a[0::2])\n",
    "print(a[::-1]) "
   ]
  },
  {
   "cell_type": "code",
   "execution_count": 14,
   "id": "3e39502b",
   "metadata": {},
   "outputs": [],
   "source": [
    "gender=(\"Male\",\"Female\",\"Other\")\n"
   ]
  },
  {
   "cell_type": "code",
   "execution_count": 16,
   "id": "dab21c61",
   "metadata": {},
   "outputs": [
    {
     "name": "stdout",
     "output_type": "stream",
     "text": [
      "<class 'tuple'> <class 'tuple'> <class 'int'> <class 'tuple'>\n"
     ]
    }
   ],
   "source": [
    "a=()\n",
    "b=tuple()\n",
    "c=(1)\n",
    "d=(1,)\n",
    "print(type(a),type(b),type(c),type(d))"
   ]
  },
  {
   "cell_type": "code",
   "execution_count": 18,
   "id": "d930daed",
   "metadata": {},
   "outputs": [],
   "source": [
    "#tuple cannot\n",
    "#append\n",
    "#insert\n",
    "#extend\n",
    "#-No update:\n",
    "#-No Sort\n",
    "#-No del remove() pop()"
   ]
  },
  {
   "cell_type": "code",
   "execution_count": 20,
   "id": "1f7b79b8",
   "metadata": {},
   "outputs": [
    {
     "name": "stdout",
     "output_type": "stream",
     "text": [
      "Enter n= 3\n",
      "Enter x= 1\n",
      "Enter x= 2\n",
      "Enter x= 3\n",
      "(1, 2, 3)\n"
     ]
    }
   ],
   "source": [
    "#tuple can be concatinated\n",
    "t=()\n",
    "n=int(input(\"Enter n= \"))\n",
    "for i in range(n):\n",
    "    x=int(input(\"Enter x= \"))\n",
    "    t=t+(x,)\n",
    "print(t)"
   ]
  },
  {
   "cell_type": "code",
   "execution_count": 24,
   "id": "51e37c64",
   "metadata": {},
   "outputs": [
    {
     "name": "stdout",
     "output_type": "stream",
     "text": [
      "5 1 15\n"
     ]
    }
   ],
   "source": [
    "a=(1,2,3,4,5)\n",
    "print(max(a),min(a),sum(a))\n"
   ]
  },
  {
   "cell_type": "code",
   "execution_count": 25,
   "id": "6b4bb832",
   "metadata": {},
   "outputs": [
    {
     "data": {
      "text/plain": [
       "[1, 2, 3, 4, 5, 6, 7, 8, 9, 10]"
      ]
     },
     "execution_count": 25,
     "metadata": {},
     "output_type": "execute_result"
    }
   ],
   "source": [
    "a=(1,2,3,4,5,6,7,8,9,10)\n",
    "b=list(a)\n",
    "b"
   ]
  },
  {
   "cell_type": "code",
   "execution_count": 29,
   "id": "d4a2c28c",
   "metadata": {},
   "outputs": [
    {
     "name": "stdout",
     "output_type": "stream",
     "text": [
      "(2, 3, 4, 5, 6, 7, 8, 9, 10)\n"
     ]
    }
   ],
   "source": [
    "a=(1,2,3,4,5,6,7,8,9,10)\n",
    "b=list(a)\n",
    "del b[0]\n",
    "a=tuple(b)\n",
    "\n",
    "print(a)"
   ]
  },
  {
   "cell_type": "code",
   "execution_count": null,
   "id": "3f0a970e",
   "metadata": {},
   "outputs": [],
   "source": [
    "#tuple inside list\n",
    "l=[(1,2,3),(4,5,6),(7,8,9)]\n"
   ]
  },
  {
   "cell_type": "code",
   "execution_count": 35,
   "id": "8df7d7f5",
   "metadata": {},
   "outputs": [
    {
     "name": "stdout",
     "output_type": "stream",
     "text": [
      "([1, 2, 3], [4, 5, 6], [7, 8, 9])\n"
     ]
    }
   ],
   "source": [
    "#List inside tuple\n",
    "t=([1,2,3],[4,5,6],[7,8,9])\n",
    "\n",
    "print(t)"
   ]
  },
  {
   "cell_type": "code",
   "execution_count": 41,
   "id": "0867c385",
   "metadata": {},
   "outputs": [
    {
     "name": "stdout",
     "output_type": "stream",
     "text": [
      "[[1, 2, 3], [4, 5, 6], [7, 8, 9]]\n"
     ]
    }
   ],
   "source": [
    "#tuple inside tuple\n",
    "c=[]\n",
    "a=((1,2,3),(4,5,6),(7,8,9))\n",
    "b=list(a)\n",
    "for i in b:\n",
    "    c.append(list(i))\n",
    "print(c)\n",
    "    \n"
   ]
  },
  {
   "cell_type": "code",
   "execution_count": 4,
   "id": "dfee4041",
   "metadata": {},
   "outputs": [
    {
     "name": "stdout",
     "output_type": "stream",
     "text": [
      "((1, 2, 3), (4, 5, 6), (7, 8, 9))\n"
     ]
    }
   ],
   "source": [
    "#list inside list to tuple inside tuple\n",
    "\n",
    "\n",
    "a=[[1, 2, 3], [4, 5, 6], [7, 8, 9]]\n",
    "b=tuple(a)\n",
    "e=()\n",
    "d=()\n",
    "for i in b:\n",
    "    d=tuple(i)    \n",
    "    e=e+(d,)\n",
    "    \n",
    "    \n",
    "\n",
    "print(e)   \n",
    "\n",
    "    \n",
    "    \n"
   ]
  },
  {
   "cell_type": "code",
   "execution_count": 73,
   "id": "e97fb65c",
   "metadata": {},
   "outputs": [],
   "source": [
    "# #Set\n",
    "# -No indexing\n",
    "# -Multiple but no duplicate\n",
    "# -Unordered\n",
    "# -Mutable\n"
   ]
  },
  {
   "cell_type": "code",
   "execution_count": 52,
   "id": "dc7d173e",
   "metadata": {},
   "outputs": [
    {
     "name": "stdout",
     "output_type": "stream",
     "text": [
      "{0, 1, 2, 3, 4, 5, 6, 7, 8, 9}\n"
     ]
    }
   ],
   "source": [
    "s={1,2,3,4,5,6,7,8,9,0}\n",
    "type(s)\n",
    "print(s)#Does not always sort"
   ]
  },
  {
   "cell_type": "code",
   "execution_count": 62,
   "id": "f77d3742",
   "metadata": {},
   "outputs": [
    {
     "name": "stdout",
     "output_type": "stream",
     "text": [
      "{'Fish', 'Ball', 'Cat', 'Dog', 'Apple'}\n"
     ]
    }
   ],
   "source": [
    "s={\"Apple\",\"Ball\",\"Cat\",\"Dog\",\"Fish\"}\n",
    "print(s)"
   ]
  },
  {
   "cell_type": "code",
   "execution_count": 7,
   "id": "56745216",
   "metadata": {},
   "outputs": [
    {
     "name": "stdout",
     "output_type": "stream",
     "text": [
      "{'Ball', 'Dog', 'Cat', 'Apple'}\n"
     ]
    }
   ],
   "source": [
    "a={\"Apple\",\"Apple\",\"Ball\",\"Cat\",\"Dog\",\"Cat\"}\n",
    "print(a)\n"
   ]
  },
  {
   "cell_type": "code",
   "execution_count": 8,
   "id": "5ec4a370",
   "metadata": {},
   "outputs": [],
   "source": [
    "# Set\n",
    "# add()\n",
    "# remove()\n",
    "# update()"
   ]
  },
  {
   "cell_type": "code",
   "execution_count": 10,
   "id": "84e98309",
   "metadata": {},
   "outputs": [
    {
     "name": "stdout",
     "output_type": "stream",
     "text": [
      "{'Cat', 'Apple', 'Fish', 'Ball', 'Dog', 'Hello'}\n"
     ]
    }
   ],
   "source": [
    "s={'Fish', 'Ball', 'Cat', 'Dog', 'Apple'}\n",
    "s.add(\"Hello\")\n",
    "print(s)\n"
   ]
  },
  {
   "cell_type": "code",
   "execution_count": 12,
   "id": "f570b883",
   "metadata": {},
   "outputs": [
    {
     "data": {
      "text/plain": [
       "{'Apple', 'Ball', 'Cat'}"
      ]
     },
     "execution_count": 12,
     "metadata": {},
     "output_type": "execute_result"
    }
   ],
   "source": [
    "s=set()\n",
    "s.add(\"Apple\")\n",
    "s.add(\"Ball\")\n",
    "s.add(\"Cat\")\n",
    "s"
   ]
  },
  {
   "cell_type": "code",
   "execution_count": 15,
   "id": "90f383fb",
   "metadata": {},
   "outputs": [
    {
     "name": "stdout",
     "output_type": "stream",
     "text": [
      "Enter n= 3\n",
      "Enter a word= apple\n",
      "Enter a word= ball\n",
      "Enter a word= cat\n",
      "{'cat', 'apple', 'ball'}\n"
     ]
    }
   ],
   "source": [
    "# WAP to create set taking from values\n",
    "s=set()\n",
    "n=int(input(\"Enter n= \"))\n",
    "for i in range(n):\n",
    "    x=input(\"Enter a word= \")\n",
    "    s.add(x)\n",
    "print(s)"
   ]
  },
  {
   "cell_type": "code",
   "execution_count": 16,
   "id": "89a8bc20",
   "metadata": {},
   "outputs": [
    {
     "data": {
      "text/plain": [
       "{1, 2, 3, 4, 5, 'Apple', 'Ball', 'Cat'}"
      ]
     },
     "execution_count": 16,
     "metadata": {},
     "output_type": "execute_result"
    }
   ],
   "source": [
    "a={\"Apple\",\"Ball\",\"Cat\"}\n",
    "b={1,2,3,4,5}\n",
    "a.update(b)\n",
    "a\n"
   ]
  },
  {
   "cell_type": "code",
   "execution_count": null,
   "id": "2d7008a2",
   "metadata": {},
   "outputs": [],
   "source": [
    "#intersection()\n",
    "#union()\n",
    "#difference()\n"
   ]
  },
  {
   "cell_type": "code",
   "execution_count": 23,
   "id": "4d8c0625",
   "metadata": {},
   "outputs": [
    {
     "name": "stdout",
     "output_type": "stream",
     "text": [
      "{'Css', 'Django', 'HTML', 'Python', 'JS'}\n"
     ]
    }
   ],
   "source": [
    "skills={\"Python\",\"HTML\",\"Css\",\"Django\",\"JS\"}\n",
    "job={\"Python\",\"Django\",\"HTML\",\"Css\",\"JS\",\"C\",\"C++\",\".net\"}\n",
    "skills.intersection(job)\n",
    "\n",
    "print(skills)\n"
   ]
  },
  {
   "cell_type": "code",
   "execution_count": 37,
   "id": "0e3aa1c4",
   "metadata": {},
   "outputs": [
    {
     "data": {
      "text/plain": [
       "{'.net', 'C', 'C++', 'Css', 'Django', 'HTML', 'JS', 'Python', 'java'}"
      ]
     },
     "execution_count": 37,
     "metadata": {},
     "output_type": "execute_result"
    }
   ],
   "source": [
    "skills={\"Python\",\"HTML\",\"Css\",\"Django\",\"JS\",\"java\"}\n",
    "job={\"Python\",\"Django\",\"HTML\",\"Css\",\"JS\",\"C\",\"C++\",\".net\"}\n",
    "skills.union(job)\n",
    "\n"
   ]
  },
  {
   "cell_type": "code",
   "execution_count": 39,
   "id": "e32c6e61",
   "metadata": {},
   "outputs": [
    {
     "data": {
      "text/plain": [
       "{'.net', 'C', 'C++'}"
      ]
     },
     "execution_count": 39,
     "metadata": {},
     "output_type": "execute_result"
    }
   ],
   "source": [
    "skills={\"Python\",\"HTML\",\"Css\",\"Django\",\"JS\",\"java\"}\n",
    "job={\"Python\",\"Django\",\"HTML\",\"Css\",\"JS\",\"C\",\"C++\",\".net\"}\n",
    "job.difference(skills)"
   ]
  },
  {
   "cell_type": "code",
   "execution_count": null,
   "id": "fd1dde42",
   "metadata": {},
   "outputs": [],
   "source": [
    "#arry cannot be in a set\n",
    "#NO mutable data type inside a set.(no set,no dict,no list)\n",
    "#Tuple can exist inside a set."
   ]
  },
  {
   "cell_type": "code",
   "execution_count": 1,
   "id": "8d12eb27",
   "metadata": {},
   "outputs": [
    {
     "data": {
      "text/plain": [
       "{(1, 2, 3), (4, 5, 6)}"
      ]
     },
     "execution_count": 1,
     "metadata": {},
     "output_type": "execute_result"
    }
   ],
   "source": [
    "s={(1,2,3),(4,5,6)}\n",
    "s\n"
   ]
  },
  {
   "cell_type": "code",
   "execution_count": null,
   "id": "ba5e896e",
   "metadata": {},
   "outputs": [],
   "source": []
  }
 ],
 "metadata": {
  "kernelspec": {
   "display_name": "Python 3 (ipykernel)",
   "language": "python",
   "name": "python3"
  },
  "language_info": {
   "codemirror_mode": {
    "name": "ipython",
    "version": 3
   },
   "file_extension": ".py",
   "mimetype": "text/x-python",
   "name": "python",
   "nbconvert_exporter": "python",
   "pygments_lexer": "ipython3",
   "version": "3.11.3"
  }
 },
 "nbformat": 4,
 "nbformat_minor": 5
}
